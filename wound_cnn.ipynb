{
  "nbformat": 4,
  "nbformat_minor": 0,
  "metadata": {
    "colab": {
      "provenance": [],
      "authorship_tag": "ABX9TyN7AFmjEJx2uGIBdWEoBkwA",
      "include_colab_link": true
    },
    "kernelspec": {
      "name": "python3",
      "display_name": "Python 3"
    },
    "language_info": {
      "name": "python"
    }
  },
  "cells": [
    {
      "cell_type": "markdown",
      "metadata": {
        "id": "view-in-github",
        "colab_type": "text"
      },
      "source": [
        "<a href=\"https://colab.research.google.com/github/emicervantes/wound_classification/blob/main/wound_cnn.ipynb\" target=\"_parent\"><img src=\"https://colab.research.google.com/assets/colab-badge.svg\" alt=\"Open In Colab\"/></a>"
      ]
    },
    {
      "cell_type": "code",
      "execution_count": 1,
      "metadata": {
        "id": "6YNfgV8uz5at"
      },
      "outputs": [],
      "source": [
        "import numpy as np\n",
        "import tensorflow as tf\n",
        "from tensorflow.keras.models import Sequential\n",
        "from tensorflow.keras.layers import Dense, Dropout, Activation, Flatten, Conv2D, MaxPooling2D\n",
        "import matplotlib.pyplot as plt\n",
        "from sklearn.model_selection import train_test_split\n",
        "import torch\n",
        "import torch.nn as nn\n",
        "import torchvision\n",
        "import torchvision.transforms as transforms\n",
        "from torch.utils.data import Dataset, DataLoader"
      ]
    },
    {
      "cell_type": "markdown",
      "source": [
        "#### Load wound data"
      ],
      "metadata": {
        "id": "SRPYc3Nb1lAG"
      }
    },
    {
      "cell_type": "code",
      "source": [
        "X = np.load('wound_features.npy', encoding = 'bytes')\n",
        "Y = np.load('wound_label.npy', encoding = 'bytes')"
      ],
      "metadata": {
        "id": "B2sawV_r04ek"
      },
      "execution_count": 2,
      "outputs": []
    },
    {
      "cell_type": "code",
      "source": [
        "Y[Y == 0] = 2"
      ],
      "metadata": {
        "id": "IFZktL1BVMk_"
      },
      "execution_count": 15,
      "outputs": []
    },
    {
      "cell_type": "code",
      "source": [
        "np.unique(Y, return_counts = True)"
      ],
      "metadata": {
        "colab": {
          "base_uri": "https://localhost:8080/"
        },
        "id": "2BD-OxsDVYYB",
        "outputId": "73e5c3ec-265f-4881-9292-8ee647082d93"
      },
      "execution_count": 16,
      "outputs": [
        {
          "output_type": "execute_result",
          "data": {
            "text/plain": [
              "(array([1, 2, 3, 4, 5]), array([154, 200, 100, 128, 156]))"
            ]
          },
          "metadata": {},
          "execution_count": 16
        }
      ]
    },
    {
      "cell_type": "code",
      "source": [
        "x_train, x_test, y_train, y_test = train_test_split(X, Y, test_size = 0.30)"
      ],
      "metadata": {
        "id": "CMkyQDTLEMYR"
      },
      "execution_count": 3,
      "outputs": []
    },
    {
      "cell_type": "code",
      "source": [
        "plt.imshow(x_train[3,:,:,0])"
      ],
      "metadata": {
        "colab": {
          "base_uri": "https://localhost:8080/",
          "height": 284
        },
        "id": "Sb202ZBs5EcZ",
        "outputId": "80894558-52c1-40d3-82b7-43b627da881d"
      },
      "execution_count": 4,
      "outputs": [
        {
          "output_type": "execute_result",
          "data": {
            "text/plain": [
              "<matplotlib.image.AxesImage at 0x7fac6282d1c0>"
            ]
          },
          "metadata": {},
          "execution_count": 4
        },
        {
          "output_type": "display_data",
          "data": {
            "text/plain": [
              "<Figure size 432x288 with 1 Axes>"
            ],
            "image/png": "[encoded data removed]"
          },
          "metadata": {
            "needs_background": "light"
          }
        }
      ]
    },
    {
      "cell_type": "code",
      "source": [
        "len(np.unique(Y))"
      ],
      "metadata": {
        "colab": {
          "base_uri": "https://localhost:8080/"
        },
        "id": "c_A6BXtN7CJ2",
        "outputId": "251cc65c-171a-4a20-f5dc-22ec09576f9e"
      },
      "execution_count": null,
      "outputs": [
        {
          "output_type": "execute_result",
          "data": {
            "text/plain": [
              "6"
            ]
          },
          "metadata": {},
          "execution_count": 5
        }
      ]
    },
    {
      "cell_type": "markdown",
      "source": [
        "#### CNN Using Keras"
      ],
      "metadata": {
        "id": "tuVDScGH4xeg"
      }
    },
    {
      "cell_type": "code",
      "source": [
        "model = Sequential()\n",
        "model.add(Conv2D(64, (3,3), input_shape = X.shape[1:]))\n",
        "model.add(Activation(\"relu\"))\n",
        "model.add(MaxPooling2D(pool_size = (2,2)))\n",
        "\n",
        "model.add(Conv2D(64, (3,3)))\n",
        "model.add(Activation(\"relu\"))\n",
        "model.add(MaxPooling2D(pool_size = (2,2)))\n",
        "\n",
        "model.add(Flatten())\n",
        "model.add(Dense(64))\n",
        "\n",
        "model.add(Dense(1))\n",
        "model.add(Activation('sigmoid'))\n",
        "\n",
        "model.compile(loss = \"categorical_crossentropy\", optimizer = \"adam\", metrics = ['accuracy'])\n",
        "\n",
        "model.fit(X, Y, batch_size = 32, epochs = 10, validation_split = 0.1)"
      ],
      "metadata": {
        "colab": {
          "base_uri": "https://localhost:8080/"
        },
        "id": "OVNNN0hS1BbD",
        "outputId": "12a3f7b1-a9c3-4acc-871a-e6254c376e42"
      },
      "execution_count": 5,
      "outputs": [
        {
          "output_type": "stream",
          "name": "stdout",
          "text": [
            "Epoch 1/10\n",
            "21/21 [==============================] - 7s 252ms/step - loss: 0.0000e+00 - accuracy: 0.2063 - val_loss: 0.0000e+00 - val_accuracy: 0.2297\n",
            "Epoch 2/10\n",
            "21/21 [==============================] - 4s 193ms/step - loss: 0.0000e+00 - accuracy: 0.2063 - val_loss: 0.0000e+00 - val_accuracy: 0.2297\n",
            "Epoch 3/10\n",
            "21/21 [==============================] - 4s 188ms/step - loss: 0.0000e+00 - accuracy: 0.2063 - val_loss: 0.0000e+00 - val_accuracy: 0.2297\n",
            "Epoch 4/10\n",
            "21/21 [==============================] - 4s 188ms/step - loss: 0.0000e+00 - accuracy: 0.2063 - val_loss: 0.0000e+00 - val_accuracy: 0.2297\n",
            "Epoch 5/10\n",
            "21/21 [==============================] - 4s 194ms/step - loss: 0.0000e+00 - accuracy: 0.2063 - val_loss: 0.0000e+00 - val_accuracy: 0.2297\n",
            "Epoch 6/10\n",
            "21/21 [==============================] - 4s 188ms/step - loss: 0.0000e+00 - accuracy: 0.2063 - val_loss: 0.0000e+00 - val_accuracy: 0.2297\n",
            "Epoch 7/10\n",
            "21/21 [==============================] - 4s 189ms/step - loss: 0.0000e+00 - accuracy: 0.2063 - val_loss: 0.0000e+00 - val_accuracy: 0.2297\n",
            "Epoch 8/10\n",
            "21/21 [==============================] - 4s 188ms/step - loss: 0.0000e+00 - accuracy: 0.2063 - val_loss: 0.0000e+00 - val_accuracy: 0.2297\n",
            "Epoch 9/10\n",
            "21/21 [==============================] - 5s 260ms/step - loss: 0.0000e+00 - accuracy: 0.2063 - val_loss: 0.0000e+00 - val_accuracy: 0.2297\n",
            "Epoch 10/10\n",
            "21/21 [==============================] - 4s 188ms/step - loss: 0.0000e+00 - accuracy: 0.2063 - val_loss: 0.0000e+00 - val_accuracy: 0.2297\n"
          ]
        },
        {
          "output_type": "execute_result",
          "data": {
            "text/plain": [
              "<keras.callbacks.History at 0x7fac5fa02580>"
            ]
          },
          "metadata": {},
          "execution_count": 5
        }
      ]
    },
    {
      "cell_type": "markdown",
      "source": [
        "### CNN Using Torch"
      ],
      "metadata": {
        "id": "z4KLQ8S16cMK"
      }
    },
    {
      "cell_type": "code",
      "source": [
        "# Check GPU avialbility\n",
        "device = torch.device('cuda:0' if torch.cuda.is_available() else 'cpu')\n",
        "print(device)"
      ],
      "metadata": {
        "colab": {
          "base_uri": "https://localhost:8080/"
        },
        "id": "D9cJHpcm6hEU",
        "outputId": "479699e3-93a2-4bf0-c2aa-96eba44d3274"
      },
      "execution_count": 6,
      "outputs": [
        {
          "output_type": "stream",
          "name": "stdout",
          "text": [
            "cpu\n"
          ]
        }
      ]
    },
    {
      "cell_type": "code",
      "source": [
        "# Hyper parameters\n",
        "num_epochs = 5\n",
        "num_classes = 6\n",
        "batch_size = 100\n",
        "learning_rate = 0.0001"
      ],
      "metadata": {
        "id": "Tkr7ktqSH8Y-"
      },
      "execution_count": 7,
      "outputs": []
    },
    {
      "cell_type": "code",
      "source": [
        "torch_XTr = torch.tensor(x_train)\n",
        "torch_YTr = torch.tensor(y_train)\n",
        "torch_XTe = torch.tensor(x_test)\n",
        "torch_YTe = torch.tensor(y_test)\n",
        "\n",
        "train = torch.utils.data.TensorDataset(torch_XTr, torch_YTr)\n",
        "train_loader = torch.utils.data.DataLoader(train, batch_size= batch_size, shuffle = True)\n",
        "\n",
        "test = torch.utils.data.TensorDataset(torch_XTe, torch_YTe)\n",
        "test_loader = torch.utils.data.DataLoader(test, batch_size= batch_size, shuffle = False)\n",
        "\n",
        "X, Y = next(iter(train_loader))\n",
        "print(X.shape, Y.shape)"
      ],
      "metadata": {
        "id": "dC4RBNlN8cog",
        "colab": {
          "base_uri": "https://localhost:8080/"
        },
        "outputId": "e51c9ce4-cfdf-4e62-bf46-c38265af1fe1"
      },
      "execution_count": 21,
      "outputs": [
        {
          "output_type": "stream",
          "name": "stdout",
          "text": [
            "torch.Size([100, 50, 50, 3]) torch.Size([100])\n"
          ]
        }
      ]
    },
    {
      "cell_type": "code",
      "source": [
        "X = torch.swapaxes(X, 1,3)\n",
        "X.shape"
      ],
      "metadata": {
        "colab": {
          "base_uri": "https://localhost:8080/"
        },
        "id": "wT72ISoK826s",
        "outputId": "544141dd-5caa-46ca-cdb0-0030ee11ab99"
      },
      "execution_count": 22,
      "outputs": [
        {
          "output_type": "execute_result",
          "data": {
            "text/plain": [
              "torch.Size([100, 3, 50, 50])"
            ]
          },
          "metadata": {},
          "execution_count": 22
        }
      ]
    },
    {
      "cell_type": "code",
      "source": [
        "# Hyper parameters\n",
        "num_epochs = 50\n",
        "num_classes = 5\n",
        "batch_size = 100\n",
        "learning_rate = 1e-5"
      ],
      "metadata": {
        "id": "FZfmLxcX8M4d"
      },
      "execution_count": 27,
      "outputs": []
    },
    {
      "cell_type": "code",
      "source": [
        "# CNN\n",
        "class ConvNet(nn.Module):\n",
        "  def __init__(self, num_classes = 6):\n",
        "    super(ConvNet, self).__init__()\n",
        "    self.layer1 = nn.Sequential(\n",
        "        nn.Conv2d(3, 16, kernel_size = 5, stride = 1, padding = 2),\n",
        "        nn.ReLU(),\n",
        "        nn.MaxPool2d(kernel_size = 2, stride = 2)\n",
        "    )\n",
        "    self.layer2 = nn.Sequential(\n",
        "        nn.Conv2d(16, 32, kernel_size = 5, stride = 1, padding = 2),\n",
        "        nn.ReLU(),\n",
        "        nn.MaxPool2d(kernel_size = 2, stride = 2)  \n",
        "    )\n",
        "    self.fc = nn.Linear(4608, num_classes)\n",
        "\n",
        "  def forward(self, x):\n",
        "    out = self.layer1(x.float())\n",
        "    print(out.shape)\n",
        "    out = self.layer2(out)\n",
        "    print(out.shape)\n",
        "    out = out.reshape(out.size(0), -1)\n",
        "    out = self.fc(out)\n",
        "    return out"
      ],
      "metadata": {
        "id": "_-x6x9Th67q_"
      },
      "execution_count": null,
      "outputs": []
    },
    {
      "cell_type": "code",
      "source": [
        "class ConvNet(nn.Module):\n",
        "  def __init__(self, num_classes = 5):\n",
        "    super(ConvNet, self).__init__()\n",
        "    self.layer1 = nn.Sequential(\n",
        "        nn.Conv2d(3, 64, kernel_size = 4, stride = 1, padding = 2),\n",
        "        nn.BatchNorm2d(64),        \n",
        "        nn.Tanh(),\n",
        "        nn.MaxPool2d(kernel_size = 2, stride = 2)\n",
        "    )\n",
        "    self.layer2 = nn.Sequential(\n",
        "        nn.Conv2d(64, 128, kernel_size = 4, stride = 1, padding = 2),\n",
        "        nn.BatchNorm2d(128),\n",
        "        nn.ReLU(),\n",
        "        nn.MaxPool2d(kernel_size = 2, stride = 2)  \n",
        "    )\n",
        "    self.fc = nn.Linear(21632, num_classes)\n",
        "\n",
        "  def forward(self, Xfe):\n",
        "    out = self.layer1(Xfe.float())    \n",
        "    out = self.layer2(out)   \n",
        "    out = out.reshape(out.size(0), -1)    \n",
        "    out = self.fc(out)\n",
        "    return out"
      ],
      "metadata": {
        "id": "EtVigzJmU5UK"
      },
      "execution_count": 18,
      "outputs": []
    },
    {
      "cell_type": "code",
      "source": [
        "model = ConvNet(num_classes)\n",
        "output = model(torch_XTr)"
      ],
      "metadata": {
        "id": "Ul1rYCBt8HBq"
      },
      "execution_count": 19,
      "outputs": []
    },
    {
      "cell_type": "code",
      "source": [
        "criterion = nn.CrossEntropyLoss()\n",
        "optimizer = torch.optim.Adam(model.parameters(), lr = learning_rate)"
      ],
      "metadata": {
        "id": "W2lyDq5u_YXZ"
      },
      "execution_count": 20,
      "outputs": []
    },
    {
      "cell_type": "code",
      "source": [
        "total_step = len(train_loader)\n",
        "#num_epochs = 5\n",
        "model.train()\n",
        "for epoch in range(num_epochs):    \n",
        "    for i, (X, Y) in enumerate(train_loader):\n",
        "        X = torch.swapaxes(X, 1,3)\n",
        "        # Forward pass       \n",
        "        outputs = model(X)   \n",
        "\n",
        "        # Calculate Loss     \n",
        "        loss = criterion(outputs, Y)\n",
        "\n",
        "        # Backward and optimize   \n",
        "        optimizer.zero_grad()     \n",
        "        loss.backward()\n",
        "        optimizer.step()       \n",
        "\n",
        "        #store loss and iteration\n",
        "        \n",
        "        if (i+1) % 6 == 0:\n",
        "            #print('Iteration: {} Loss: {} '.format(count, loss.item()))\n",
        "            print ('Epoch [{}/{}], Step [{}/{}], Loss: {:.4f}' \n",
        "                  .format(epoch+1, num_epochs, (i+1), total_step, loss.item()))\n"
      ],
      "metadata": {
        "colab": {
          "base_uri": "https://localhost:8080/"
        },
        "id": "Zqt1vSCaWYkn",
        "outputId": "ea31d198-b87d-4e42-8df7-f46d0b0d5415"
      },
      "execution_count": 30,
      "outputs": [
        {
          "output_type": "stream",
          "name": "stdout",
          "text": [
            "Epoch [1/50], Step [6/6], Loss: 0.0210\n",
            "Epoch [2/50], Step [6/6], Loss: 0.0051\n",
            "Epoch [3/50], Step [6/6], Loss: 0.1416\n",
            "Epoch [4/50], Step [6/6], Loss: 0.0406\n",
            "Epoch [5/50], Step [6/6], Loss: 0.0146\n",
            "Epoch [6/50], Step [6/6], Loss: 0.0101\n",
            "Epoch [7/50], Step [6/6], Loss: 0.0094\n",
            "Epoch [8/50], Step [6/6], Loss: 0.0140\n",
            "Epoch [9/50], Step [6/6], Loss: 0.0283\n",
            "Epoch [10/50], Step [6/6], Loss: 0.0384\n",
            "Epoch [11/50], Step [6/6], Loss: 0.1108\n",
            "Epoch [12/50], Step [6/6], Loss: 0.0526\n",
            "Epoch [13/50], Step [6/6], Loss: 0.0136\n",
            "Epoch [14/50], Step [6/6], Loss: 0.0366\n",
            "Epoch [15/50], Step [6/6], Loss: 0.0092\n",
            "Epoch [16/50], Step [6/6], Loss: 0.0075\n",
            "Epoch [17/50], Step [6/6], Loss: 0.0042\n",
            "Epoch [18/50], Step [6/6], Loss: 0.0121\n",
            "Epoch [19/50], Step [6/6], Loss: 0.0063\n",
            "Epoch [20/50], Step [6/6], Loss: 0.0667\n",
            "Epoch [21/50], Step [6/6], Loss: 0.0596\n",
            "Epoch [22/50], Step [6/6], Loss: 0.0270\n",
            "Epoch [23/50], Step [6/6], Loss: 0.1168\n",
            "Epoch [24/50], Step [6/6], Loss: 0.0129\n",
            "Epoch [25/50], Step [6/6], Loss: 0.0048\n",
            "Epoch [26/50], Step [6/6], Loss: 0.0036\n",
            "Epoch [27/50], Step [6/6], Loss: 0.0436\n",
            "Epoch [28/50], Step [6/6], Loss: 0.0058\n",
            "Epoch [29/50], Step [6/6], Loss: 0.0225\n",
            "Epoch [30/50], Step [6/6], Loss: 0.0123\n",
            "Epoch [31/50], Step [6/6], Loss: 0.0641\n",
            "Epoch [32/50], Step [6/6], Loss: 0.0210\n",
            "Epoch [33/50], Step [6/6], Loss: 0.0078\n",
            "Epoch [34/50], Step [6/6], Loss: 0.0078\n",
            "Epoch [35/50], Step [6/6], Loss: 0.0084\n",
            "Epoch [36/50], Step [6/6], Loss: 0.0009\n",
            "Epoch [37/50], Step [6/6], Loss: 0.0034\n",
            "Epoch [38/50], Step [6/6], Loss: 0.0133\n",
            "Epoch [39/50], Step [6/6], Loss: 0.0034\n",
            "Epoch [40/50], Step [6/6], Loss: 0.0185\n",
            "Epoch [41/50], Step [6/6], Loss: 0.0049\n",
            "Epoch [42/50], Step [6/6], Loss: 0.0811\n",
            "Epoch [43/50], Step [6/6], Loss: 0.0265\n",
            "Epoch [44/50], Step [6/6], Loss: 0.0236\n",
            "Epoch [45/50], Step [6/6], Loss: 0.0014\n",
            "Epoch [46/50], Step [6/6], Loss: 0.0067\n",
            "Epoch [47/50], Step [6/6], Loss: 0.0115\n",
            "Epoch [48/50], Step [6/6], Loss: 0.0041\n",
            "Epoch [49/50], Step [6/6], Loss: 0.0210\n",
            "Epoch [50/50], Step [6/6], Loss: 0.0027\n"
          ]
        }
      ]
    },
    {
      "cell_type": "code",
      "source": [
        "model.eval()\n",
        "testmod_acc = []\n",
        "with torch.no_grad():    \n",
        "    for X, Y in test_loader:\n",
        "        X = torch.swapaxes(X, 1,3)\n",
        "        outputs = model(X)\n",
        "        _, predicted = torch.max(outputs.data, 1)\n",
        "        testmod_acc.append((predicted == Y).sum().item() / predicted.size(0))\n",
        "        \n",
        "\n",
        "    print('Test Accuracy of the model = {} %'.format(100*np.mean(testmod_acc)))"
      ],
      "metadata": {
        "colab": {
          "base_uri": "https://localhost:8080/"
        },
        "id": "JGzM2SycZebP",
        "outputId": "273504f2-03f5-4e86-cdd7-eb25aafd6066"
      },
      "execution_count": 31,
      "outputs": [
        {
          "output_type": "stream",
          "name": "stdout",
          "text": [
            "Test Accuracy of the model = 62.39393939393939 %\n"
          ]
        }
      ]
    }
  ]
}