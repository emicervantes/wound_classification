{
  "nbformat": 4,
  "nbformat_minor": 0,
  "metadata": {
    "colab": {
      "provenance": [],
      "authorship_tag": "ABX9TyPKV5EO47/Y6Irdsb7SaqMV",
      "include_colab_link": true
    },
    "kernelspec": {
      "name": "python3",
      "display_name": "Python 3"
    },
    "language_info": {
      "name": "python"
    }
  },
  "cells": [
    {
      "cell_type": "markdown",
      "metadata": {
        "id": "view-in-github",
        "colab_type": "text"
      },
      "source": [
        "<a href=\"https://colab.research.google.com/github/emicervantes/wound_classification/blob/main/u_net.ipynb\" target=\"_parent\"><img src=\"https://colab.research.google.com/assets/colab-badge.svg\" alt=\"Open In Colab\"/></a>"
      ]
    },
    {
      "cell_type": "markdown",
      "source": [
        "## Wound Classification with U-Net"
      ],
      "metadata": {
        "id": "qaGeYqkWtcKE"
      }
    },
    {
      "cell_type": "code",
      "source": [],
      "metadata": {
        "id": "S9cIp00vLxTL"
      },
      "execution_count": null,
      "outputs": []
    },
    {
      "cell_type": "code",
      "source": [
        "import numpy as np\n",
        "import tensorflow as tf\n",
        "import torch\n",
        "import torch.nn as nn\n",
        "import torchvision\n",
        "import torchvision.transforms as transforms\n",
        "import torchvision.transforms.functional as TF\n",
        "from torch.utils.data import Dataset, DataLoader\n",
        "from sklearn.model_selection import train_test_split \n",
        "import matplotlib.pyplot as plt"
      ],
      "metadata": {
        "id": "yyPRFnAutiYQ"
      },
      "execution_count": null,
      "outputs": []
    },
    {
      "cell_type": "markdown",
      "source": [
        "### Load wound data"
      ],
      "metadata": {
        "id": "cVZSr8WEuUzH"
      }
    },
    {
      "cell_type": "code",
      "source": [
        "X = np.load('wound_features.npy', encoding = 'bytes')\n",
        "Y = np.load('wound_label.npy', encoding = 'bytes')\n",
        "XTr, XTe, YTr, YTe = train_test_split(X,Y,test_size = 0.30)\n",
        "\n",
        "plt.imshow(XTr[3,:,:,0])"
      ],
      "metadata": {
        "colab": {
          "base_uri": "https://localhost:8080/",
          "height": 284
        },
        "id": "Z8QOJN16uXLH",
        "outputId": "086b3c7e-46f8-4acd-cc83-86d7e2cc581b"
      },
      "execution_count": null,
      "outputs": [
        {
          "output_type": "execute_result",
          "data": {
            "text/plain": [
              "<matplotlib.image.AxesImage at 0x7f99aae862b0>"
            ]
          },
          "metadata": {},
          "execution_count": 2
        },
        {
          "output_type": "display_data",
          "data": {
            "text/plain": [
              "<Figure size 432x288 with 1 Axes>"
            ],
            "image/png": "[encoded data removed]"
          },
          "metadata": {
            "needs_background": "light"
          }
        }
      ]
    },
    {
      "cell_type": "code",
      "source": [
        "batch_size = 100\n",
        "\n",
        "torch_XTr = torch.tensor(XTr)\n",
        "torch_YTr = torch.tensor(YTr)\n",
        "torch_XTe = torch.tensor(XTe)\n",
        "torch_YTe = torch.tensor(YTe)\n",
        "\n",
        "train = torch.utils.data.TensorDataset(torch_XTr, torch_YTr)\n",
        "train_loader = torch.utils.data.DataLoader(train, batch_size = batch_size, shuffle = True)\n",
        "\n",
        "test = torch.utils.data.TensorDataset(torch_XTe, torch_YTe)\n",
        "test_loader = torch.utils.data.DataLoader(test, batch_size = batch_size, shuffle = True)"
      ],
      "metadata": {
        "id": "pX6knjscu5_T"
      },
      "execution_count": null,
      "outputs": []
    },
    {
      "cell_type": "code",
      "source": [
        "X, Y = next(iter(train_loader))\n",
        "print(X.shape, Y.shape)"
      ],
      "metadata": {
        "colab": {
          "base_uri": "https://localhost:8080/"
        },
        "id": "A7e-LxeWveHb",
        "outputId": "a372c045-6287-4416-841b-3d96dc4a46bb"
      },
      "execution_count": null,
      "outputs": [
        {
          "output_type": "stream",
          "name": "stdout",
          "text": [
            "torch.Size([100, 50, 50, 3]) torch.Size([100])\n"
          ]
        }
      ]
    },
    {
      "cell_type": "code",
      "source": [
        "X = torch.swapaxes(X, 1, 3)"
      ],
      "metadata": {
        "id": "kZLw29CHMt-D"
      },
      "execution_count": null,
      "outputs": []
    },
    {
      "cell_type": "markdown",
      "source": [
        "### U-Net Implementation"
      ],
      "metadata": {
        "id": "f9Gt3CN4vnzA"
      }
    },
    {
      "cell_type": "code",
      "source": [
        "class UNET(nn.Module):\n",
        "  def encoder(self, in_channels, out_channels, kernel_size = 2):\n",
        "    block = torch.nn.Sequential(\n",
        "              torch.nn.Conv2d(kernel_size = kernel_size, in_channels = in_channels, out_channels = out_channels),\n",
        "              torch.nn.ReLU(),\n",
        "              torch.nn.BatchNorm2d(out_channels),\n",
        "              torch.nn.Conv2d(kernel_size = kernel_size, in_channels = out_channels, out_channels = out_channels),\n",
        "              torch.nn.ReLU(),\n",
        "              torch.nn.BatchNorm2d(out_channels),\n",
        "    )\n",
        "    return block\n",
        "\n",
        "  def decoder(self, in_channels, mid_channel, out_channels, kernel_size = 2):\n",
        "    block = torch.nn.Sequential(\n",
        "        torch.nn.Conv2d(kernel_size = kernel_size, in_channels = in_channels, out_channels = mid_channel),\n",
        "        torch.nn.ReLU(),\n",
        "        torch.nn.BatchNorm2d(mid_channel),\n",
        "        torch.nn.Conv2d(kernel_size = kernel_size, in_channels = mid_channel, out_channels = mid_channel),\n",
        "        torch.nn.ReLU(),\n",
        "        torch.nn.BatchNorm2d(mid_channel),\n",
        "        torch.nn.ConvTranspose2d(in_channels=mid_channel, out_channels = out_channels, kernel_size = 2, stride = 2, padding = 1, output_padding = 1)\n",
        "    )\n",
        "    return block\n",
        "\n",
        "  def final_block(self, in_channels, mid_channel, out_channels, kernel_size = 2):\n",
        "    block = torch.nn.Sequential(\n",
        "        torch.nn.Conv2d(kernel_size = kernel_size, in_channels = in_channels, out_channels = mid_channel),\n",
        "        torch.nn.ReLU(),\n",
        "        torch.nn.BatchNorm2d(mid_channel),\n",
        "        torch.nn.Conv2d(kernel_size = kernel_size, in_channels = mid_channel, out_channels = mid_channel),\n",
        "        torch.nn.ReLU(),\n",
        "        torch.nn.BatchNorm2d(mid_channel),\n",
        "        torch.nn.Conv2d(kernel_size = kernel_size, in_channels = mid_channel, out_channels = out_channels, padding = 1),\n",
        "        torch.nn.ReLU(),\n",
        "        torch.nn.BatchNorm2d(out_channels),\n",
        "    )\n",
        "    return block\n",
        "\n",
        "  def __init__(self, in_channel, out_channel):\n",
        "    super(UNET, self).__init__()\n",
        "    self.conv_encode1 = self.encoder(in_channels = in_channel, out_channels =64)\n",
        "    self.conv_maxpool1 = torch.nn.MaxPool2d(kernel_size = 2)\n",
        "    self.conv_encode2 = self.encoder(64,128)\n",
        "    self.conv_maxpool2 = torch.nn.MaxPool2d(kernel_size = 2)\n",
        "    self.conv_encode3 = self.encoder(128,256)\n",
        "    self.conv_maxpool3 = torch.nn.MaxPool2d(kernel_size = 2)\n",
        "\n",
        "    self.bottleneck = torch.nn.Sequential(\n",
        "        torch.nn.Conv2d(kernel_size = 2, in_channels = 256, out_channels = 512),\n",
        "        torch.nn.ReLU(),\n",
        "        torch.nn.BatchNorm2d(512),\n",
        "        torch.nn.Conv2d(kernel_size = 2, in_channels =512, out_channels = 512),\n",
        "        torch.nn.ReLU(),\n",
        "        torch.nn.BatchNorm2d(512),\n",
        "        torch.nn.ConvTranspose2d(in_channels = 512, out_channels = 256, kernel_size = 2, stride = 2, padding = 1, output_padding = 1)\n",
        "    )\n",
        "\n",
        "    self.conv_decode3 = self.decoder(512, 256, 128)\n",
        "    self.conv_decode2 = self.decoder(256, 128, 64)\n",
        "    self.final_layer = self.final_block(128, 64, out_channel)\n",
        "\n",
        "  def crop_and_concat(self, upsampled, bypass, crop = False):\n",
        "    if crop:\n",
        "      c = (bypass.size()[2] - upsampled.size()[2]) // 2\n",
        "      bypass = TF.pad(bypass, (-c, -c, -c, -c))\n",
        "    return torch.cat((upsampled, bypass), 1)\n",
        "\n",
        "  def forward(self, x):\n",
        "    encode_block1 = self.conv_encode1(x)\n",
        "    encode_pool1 = self.conv_maxpool1(encode_block1)\n",
        "    encode_block2 = self.conv_encode2(encode_pool1)\n",
        "    encode_pool2 = self.conv_maxpool2(encode_block2)\n",
        "    encode_block3 = self.conv_encode3(encode_pool2)\n",
        "    encode_pool3 = self.conv_maxpool3(encode_block3)\n",
        "    \n",
        "    bottleneck1 = self.bottleneck(encode_pool3)\n",
        "\n",
        "    decode_block3 = self.crop_and_concat(bottleneck1, encode_block3, crop = True)\n",
        "    cat_layer2 = self.conv_decode3(decode_block3)\n",
        "    decode_block2 = self.crop_and_concat(cat_layer2, encode_block2, crop = True)\n",
        "    cat_layer1 = self.conv_decode3(decode_block2)\n",
        "    decode_block1 = self.crop_and_concat(cat_layer1, encode_block1, crop = True)\n",
        "    final_layer = self.conv_decode3(decode_block1)\n",
        "    \n",
        "    return final_layer      "
      ],
      "metadata": {
        "id": "8_WIi50i2Rdp"
      },
      "execution_count": null,
      "outputs": []
    },
    {
      "cell_type": "code",
      "source": [
        "unet = UNET(in_channel=3,out_channel=2)\n",
        "criterion = torch.nn.CrossEntropyLoss()\n",
        "optimizer = torch.optim.SGD(unet.parameters(), lr = 0.01, momentum=0.99)\n",
        "optimizer.zero_grad()       \n",
        "outputs = unet(X.float())"
      ],
      "metadata": {
        "colab": {
          "base_uri": "https://localhost:8080/",
          "height": 364
        },
        "id": "biEFjcEh2Pdr",
        "outputId": "28fa34c1-1bc8-48fc-b191-5c324cff1acb"
      },
      "execution_count": null,
      "outputs": [
        {
          "output_type": "error",
          "ename": "RuntimeError",
          "evalue": "ignored",
          "traceback": [
            "\u001b[0;31m---------------------------------------------------------------------------\u001b[0m",
            "\u001b[0;31mRuntimeError\u001b[0m                              Traceback (most recent call last)",
            "\u001b[0;32m<ipython-input-28-0567125943d0>\u001b[0m in \u001b[0;36m<module>\u001b[0;34m\u001b[0m\n\u001b[1;32m      3\u001b[0m \u001b[0moptimizer\u001b[0m \u001b[0;34m=\u001b[0m \u001b[0mtorch\u001b[0m\u001b[0;34m.\u001b[0m\u001b[0moptim\u001b[0m\u001b[0;34m.\u001b[0m\u001b[0mSGD\u001b[0m\u001b[0;34m(\u001b[0m\u001b[0munet\u001b[0m\u001b[0;34m.\u001b[0m\u001b[0mparameters\u001b[0m\u001b[0;34m(\u001b[0m\u001b[0;34m)\u001b[0m\u001b[0;34m,\u001b[0m \u001b[0mlr\u001b[0m \u001b[0;34m=\u001b[0m \u001b[0;36m0.01\u001b[0m\u001b[0;34m,\u001b[0m \u001b[0mmomentum\u001b[0m\u001b[0;34m=\u001b[0m\u001b[0;36m0.99\u001b[0m\u001b[0;34m)\u001b[0m\u001b[0;34m\u001b[0m\u001b[0;34m\u001b[0m\u001b[0m\n\u001b[1;32m      4\u001b[0m \u001b[0moptimizer\u001b[0m\u001b[0;34m.\u001b[0m\u001b[0mzero_grad\u001b[0m\u001b[0;34m(\u001b[0m\u001b[0;34m)\u001b[0m\u001b[0;34m\u001b[0m\u001b[0;34m\u001b[0m\u001b[0m\n\u001b[0;32m----> 5\u001b[0;31m \u001b[0moutputs\u001b[0m \u001b[0;34m=\u001b[0m \u001b[0munet\u001b[0m\u001b[0;34m(\u001b[0m\u001b[0mX\u001b[0m\u001b[0;34m.\u001b[0m\u001b[0mfloat\u001b[0m\u001b[0;34m(\u001b[0m\u001b[0;34m)\u001b[0m\u001b[0;34m)\u001b[0m\u001b[0;34m\u001b[0m\u001b[0;34m\u001b[0m\u001b[0m\n\u001b[0m",
            "\u001b[0;32m/usr/local/lib/python3.8/dist-packages/torch/nn/modules/module.py\u001b[0m in \u001b[0;36m_call_impl\u001b[0;34m(self, *input, **kwargs)\u001b[0m\n\u001b[1;32m   1128\u001b[0m         if not (self._backward_hooks or self._forward_hooks or self._forward_pre_hooks or _global_backward_hooks\n\u001b[1;32m   1129\u001b[0m                 or _global_forward_hooks or _global_forward_pre_hooks):\n\u001b[0;32m-> 1130\u001b[0;31m             \u001b[0;32mreturn\u001b[0m \u001b[0mforward_call\u001b[0m\u001b[0;34m(\u001b[0m\u001b[0;34m*\u001b[0m\u001b[0minput\u001b[0m\u001b[0;34m,\u001b[0m \u001b[0;34m**\u001b[0m\u001b[0mkwargs\u001b[0m\u001b[0;34m)\u001b[0m\u001b[0;34m\u001b[0m\u001b[0;34m\u001b[0m\u001b[0m\n\u001b[0m\u001b[1;32m   1131\u001b[0m         \u001b[0;31m# Do not call functions when jit is used\u001b[0m\u001b[0;34m\u001b[0m\u001b[0;34m\u001b[0m\u001b[0;34m\u001b[0m\u001b[0m\n\u001b[1;32m   1132\u001b[0m         \u001b[0mfull_backward_hooks\u001b[0m\u001b[0;34m,\u001b[0m \u001b[0mnon_full_backward_hooks\u001b[0m \u001b[0;34m=\u001b[0m \u001b[0;34m[\u001b[0m\u001b[0;34m]\u001b[0m\u001b[0;34m,\u001b[0m \u001b[0;34m[\u001b[0m\u001b[0;34m]\u001b[0m\u001b[0;34m\u001b[0m\u001b[0;34m\u001b[0m\u001b[0m\n",
            "\u001b[0;32m<ipython-input-27-57809cffd110>\u001b[0m in \u001b[0;36mforward\u001b[0;34m(self, x)\u001b[0m\n\u001b[1;32m     78\u001b[0m     \u001b[0mdecode_block3\u001b[0m \u001b[0;34m=\u001b[0m \u001b[0mself\u001b[0m\u001b[0;34m.\u001b[0m\u001b[0mcrop_and_concat\u001b[0m\u001b[0;34m(\u001b[0m\u001b[0mbottleneck1\u001b[0m\u001b[0;34m,\u001b[0m \u001b[0mencode_block3\u001b[0m\u001b[0;34m,\u001b[0m \u001b[0mcrop\u001b[0m \u001b[0;34m=\u001b[0m \u001b[0;32mTrue\u001b[0m\u001b[0;34m)\u001b[0m\u001b[0;34m\u001b[0m\u001b[0;34m\u001b[0m\u001b[0m\n\u001b[1;32m     79\u001b[0m     \u001b[0mcat_layer2\u001b[0m \u001b[0;34m=\u001b[0m \u001b[0mself\u001b[0m\u001b[0;34m.\u001b[0m\u001b[0mconv_decode3\u001b[0m\u001b[0;34m(\u001b[0m\u001b[0mdecode_block3\u001b[0m\u001b[0;34m)\u001b[0m\u001b[0;34m\u001b[0m\u001b[0;34m\u001b[0m\u001b[0m\n\u001b[0;32m---> 80\u001b[0;31m     \u001b[0mdecode_block2\u001b[0m \u001b[0;34m=\u001b[0m \u001b[0mself\u001b[0m\u001b[0;34m.\u001b[0m\u001b[0mcrop_and_concat\u001b[0m\u001b[0;34m(\u001b[0m\u001b[0mcat_layer2\u001b[0m\u001b[0;34m,\u001b[0m \u001b[0mencode_block2\u001b[0m\u001b[0;34m,\u001b[0m \u001b[0mcrop\u001b[0m \u001b[0;34m=\u001b[0m \u001b[0;32mTrue\u001b[0m\u001b[0;34m)\u001b[0m\u001b[0;34m\u001b[0m\u001b[0;34m\u001b[0m\u001b[0m\n\u001b[0m\u001b[1;32m     81\u001b[0m     \u001b[0mcat_layer1\u001b[0m \u001b[0;34m=\u001b[0m \u001b[0mself\u001b[0m\u001b[0;34m.\u001b[0m\u001b[0mconv_decode3\u001b[0m\u001b[0;34m(\u001b[0m\u001b[0mdecode_block2\u001b[0m\u001b[0;34m)\u001b[0m\u001b[0;34m\u001b[0m\u001b[0;34m\u001b[0m\u001b[0m\n\u001b[1;32m     82\u001b[0m     \u001b[0mdecode_block1\u001b[0m \u001b[0;34m=\u001b[0m \u001b[0mself\u001b[0m\u001b[0;34m.\u001b[0m\u001b[0mcrop_and_concat\u001b[0m\u001b[0;34m(\u001b[0m\u001b[0mcat_layer1\u001b[0m\u001b[0;34m,\u001b[0m \u001b[0mencode_block1\u001b[0m\u001b[0;34m,\u001b[0m \u001b[0mcrop\u001b[0m \u001b[0;34m=\u001b[0m \u001b[0;32mTrue\u001b[0m\u001b[0;34m)\u001b[0m\u001b[0;34m\u001b[0m\u001b[0;34m\u001b[0m\u001b[0m\n",
            "\u001b[0;32m<ipython-input-27-57809cffd110>\u001b[0m in \u001b[0;36mcrop_and_concat\u001b[0;34m(self, upsampled, bypass, crop)\u001b[0m\n\u001b[1;32m     64\u001b[0m       \u001b[0mc\u001b[0m \u001b[0;34m=\u001b[0m \u001b[0;34m(\u001b[0m\u001b[0mbypass\u001b[0m\u001b[0;34m.\u001b[0m\u001b[0msize\u001b[0m\u001b[0;34m(\u001b[0m\u001b[0;34m)\u001b[0m\u001b[0;34m[\u001b[0m\u001b[0;36m2\u001b[0m\u001b[0;34m]\u001b[0m \u001b[0;34m-\u001b[0m \u001b[0mupsampled\u001b[0m\u001b[0;34m.\u001b[0m\u001b[0msize\u001b[0m\u001b[0;34m(\u001b[0m\u001b[0;34m)\u001b[0m\u001b[0;34m[\u001b[0m\u001b[0;36m2\u001b[0m\u001b[0;34m]\u001b[0m\u001b[0;34m)\u001b[0m \u001b[0;34m//\u001b[0m \u001b[0;36m2\u001b[0m\u001b[0;34m\u001b[0m\u001b[0;34m\u001b[0m\u001b[0m\n\u001b[1;32m     65\u001b[0m       \u001b[0mbypass\u001b[0m \u001b[0;34m=\u001b[0m \u001b[0mTF\u001b[0m\u001b[0;34m.\u001b[0m\u001b[0mpad\u001b[0m\u001b[0;34m(\u001b[0m\u001b[0mbypass\u001b[0m\u001b[0;34m,\u001b[0m \u001b[0;34m(\u001b[0m\u001b[0;34m-\u001b[0m\u001b[0mc\u001b[0m\u001b[0;34m,\u001b[0m \u001b[0;34m-\u001b[0m\u001b[0mc\u001b[0m\u001b[0;34m,\u001b[0m \u001b[0;34m-\u001b[0m\u001b[0mc\u001b[0m\u001b[0;34m,\u001b[0m \u001b[0;34m-\u001b[0m\u001b[0mc\u001b[0m\u001b[0;34m)\u001b[0m\u001b[0;34m)\u001b[0m\u001b[0;34m\u001b[0m\u001b[0;34m\u001b[0m\u001b[0m\n\u001b[0;32m---> 66\u001b[0;31m     \u001b[0;32mreturn\u001b[0m \u001b[0mtorch\u001b[0m\u001b[0;34m.\u001b[0m\u001b[0mcat\u001b[0m\u001b[0;34m(\u001b[0m\u001b[0;34m(\u001b[0m\u001b[0mupsampled\u001b[0m\u001b[0;34m,\u001b[0m \u001b[0mbypass\u001b[0m\u001b[0;34m)\u001b[0m\u001b[0;34m,\u001b[0m \u001b[0;36m1\u001b[0m\u001b[0;34m)\u001b[0m\u001b[0;34m\u001b[0m\u001b[0;34m\u001b[0m\u001b[0m\n\u001b[0m\u001b[1;32m     67\u001b[0m \u001b[0;34m\u001b[0m\u001b[0m\n\u001b[1;32m     68\u001b[0m   \u001b[0;32mdef\u001b[0m \u001b[0mforward\u001b[0m\u001b[0;34m(\u001b[0m\u001b[0mself\u001b[0m\u001b[0;34m,\u001b[0m \u001b[0mx\u001b[0m\u001b[0;34m)\u001b[0m\u001b[0;34m:\u001b[0m\u001b[0;34m\u001b[0m\u001b[0;34m\u001b[0m\u001b[0m\n",
            "\u001b[0;31mRuntimeError\u001b[0m: Sizes of tensors must match except in dimension 1. Expected size 1 but got size 2 for tensor number 1 in the list."
          ]
        }
      ]
    }
  ]
}