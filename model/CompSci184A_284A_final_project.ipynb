{
 "cells": [
  {
   "cell_type": "markdown",
   "metadata": {
    "id": "VzqoMl8EK_ge"
   },
   "source": [
    "# CompSci 184A/284A: FA22 Final Project\n",
    "\n",
    "Team Members:\n",
    "\n",
    ">  Emi Cervantes, 63486762, emic@uci.edu\n",
    "\n",
    ">  Samir Malhotra, 58447339, smalhot2@uci.edu\n",
    "\n",
    ">  Vatsal Ananthula, 9498724963, vananthu@uci.edu"
   ]
  },
  {
   "cell_type": "markdown",
   "metadata": {
    "id": "oGIIXmMxMK-f"
   },
   "source": [
    "## Loading Dataset"
   ]
  },
  {
   "cell_type": "code",
   "execution_count": null,
   "metadata": {
    "id": "44T81B63Laga"
   },
   "outputs": [],
   "source": [
    "import numpy as np\n",
    "import tensorflow as tf\n",
    "import torch\n",
    "import torch.nn as nn\n",
    "import torchvision\n",
    "import torchvision.transforms as transforms\n",
    "import torchvision.transforms.functional as TF\n",
    "from torch.utils.data import Dataset, DataLoader\n",
    "from sklearn.model_selection import train_test_split \n",
    "import matplotlib.pyplot as plt\n",
    "from sklearn.metrics import classification_report"
   ]
  },
  {
   "cell_type": "code",
   "execution_count": null,
   "metadata": {
    "colab": {
     "base_uri": "https://localhost:8080/",
     "height": 109
    },
    "id": "0n7xKNpxBjAS",
    "outputId": "410c3b7e-9ae8-40c4-ac5e-ff396d2318d1"
   },
   "outputs": [
    {
     "data": {
      "text/html": [
       "\n",
       "     <input type=\"file\" id=\"files-bb312667-850a-4a63-835b-7907b1cdc2a0\" name=\"files[]\" multiple disabled\n",
       "        style=\"border:none\" />\n",
       "     <output id=\"result-bb312667-850a-4a63-835b-7907b1cdc2a0\">\n",
       "      Upload widget is only available when the cell has been executed in the\n",
       "      current browser session. Please rerun this cell to enable.\n",
       "      </output>\n",
       "      <script>// Copyright 2017 Google LLC\n",
       "//\n",
       "// Licensed under the Apache License, Version 2.0 (the \"License\");\n",
       "// you may not use this file except in compliance with the License.\n",
       "// You may obtain a copy of the License at\n",
       "//\n",
       "//      http://www.apache.org/licenses/LICENSE-2.0\n",
       "//\n",
       "// Unless required by applicable law or agreed to in writing, software\n",
       "// distributed under the License is distributed on an \"AS IS\" BASIS,\n",
       "// WITHOUT WARRANTIES OR CONDITIONS OF ANY KIND, either express or implied.\n",
       "// See the License for the specific language governing permissions and\n",
       "// limitations under the License.\n",
       "\n",
       "/**\n",
       " * @fileoverview Helpers for google.colab Python module.\n",
       " */\n",
       "(function(scope) {\n",
       "function span(text, styleAttributes = {}) {\n",
       "  const element = document.createElement('span');\n",
       "  element.textContent = text;\n",
       "  for (const key of Object.keys(styleAttributes)) {\n",
       "    element.style[key] = styleAttributes[key];\n",
       "  }\n",
       "  return element;\n",
       "}\n",
       "\n",
       "// Max number of bytes which will be uploaded at a time.\n",
       "const MAX_PAYLOAD_SIZE = 100 * 1024;\n",
       "\n",
       "function _uploadFiles(inputId, outputId) {\n",
       "  const steps = uploadFilesStep(inputId, outputId);\n",
       "  const outputElement = document.getElementById(outputId);\n",
       "  // Cache steps on the outputElement to make it available for the next call\n",
       "  // to uploadFilesContinue from Python.\n",
       "  outputElement.steps = steps;\n",
       "\n",
       "  return _uploadFilesContinue(outputId);\n",
       "}\n",
       "\n",
       "// This is roughly an async generator (not supported in the browser yet),\n",
       "// where there are multiple asynchronous steps and the Python side is going\n",
       "// to poll for completion of each step.\n",
       "// This uses a Promise to block the python side on completion of each step,\n",
       "// then passes the result of the previous step as the input to the next step.\n",
       "function _uploadFilesContinue(outputId) {\n",
       "  const outputElement = document.getElementById(outputId);\n",
       "  const steps = outputElement.steps;\n",
       "\n",
       "  const next = steps.next(outputElement.lastPromiseValue);\n",
       "  return Promise.resolve(next.value.promise).then((value) => {\n",
       "    // Cache the last promise value to make it available to the next\n",
       "    // step of the generator.\n",
       "    outputElement.lastPromiseValue = value;\n",
       "    return next.value.response;\n",
       "  });\n",
       "}\n",
       "\n",
       "/**\n",
       " * Generator function which is called between each async step of the upload\n",
       " * process.\n",
       " * @param {string} inputId Element ID of the input file picker element.\n",
       " * @param {string} outputId Element ID of the output display.\n",
       " * @return {!Iterable<!Object>} Iterable of next steps.\n",
       " */\n",
       "function* uploadFilesStep(inputId, outputId) {\n",
       "  const inputElement = document.getElementById(inputId);\n",
       "  inputElement.disabled = false;\n",
       "\n",
       "  const outputElement = document.getElementById(outputId);\n",
       "  outputElement.innerHTML = '';\n",
       "\n",
       "  const pickedPromise = new Promise((resolve) => {\n",
       "    inputElement.addEventListener('change', (e) => {\n",
       "      resolve(e.target.files);\n",
       "    });\n",
       "  });\n",
       "\n",
       "  const cancel = document.createElement('button');\n",
       "  inputElement.parentElement.appendChild(cancel);\n",
       "  cancel.textContent = 'Cancel upload';\n",
       "  const cancelPromise = new Promise((resolve) => {\n",
       "    cancel.onclick = () => {\n",
       "      resolve(null);\n",
       "    };\n",
       "  });\n",
       "\n",
       "  // Wait for the user to pick the files.\n",
       "  const files = yield {\n",
       "    promise: Promise.race([pickedPromise, cancelPromise]),\n",
       "    response: {\n",
       "      action: 'starting',\n",
       "    }\n",
       "  };\n",
       "\n",
       "  cancel.remove();\n",
       "\n",
       "  // Disable the input element since further picks are not allowed.\n",
       "  inputElement.disabled = true;\n",
       "\n",
       "  if (!files) {\n",
       "    return {\n",
       "      response: {\n",
       "        action: 'complete',\n",
       "      }\n",
       "    };\n",
       "  }\n",
       "\n",
       "  for (const file of files) {\n",
       "    const li = document.createElement('li');\n",
       "    li.append(span(file.name, {fontWeight: 'bold'}));\n",
       "    li.append(span(\n",
       "        `(${file.type || 'n/a'}) - ${file.size} bytes, ` +\n",
       "        `last modified: ${\n",
       "            file.lastModifiedDate ? file.lastModifiedDate.toLocaleDateString() :\n",
       "                                    'n/a'} - `));\n",
       "    const percent = span('0% done');\n",
       "    li.appendChild(percent);\n",
       "\n",
       "    outputElement.appendChild(li);\n",
       "\n",
       "    const fileDataPromise = new Promise((resolve) => {\n",
       "      const reader = new FileReader();\n",
       "      reader.onload = (e) => {\n",
       "        resolve(e.target.result);\n",
       "      };\n",
       "      reader.readAsArrayBuffer(file);\n",
       "    });\n",
       "    // Wait for the data to be ready.\n",
       "    let fileData = yield {\n",
       "      promise: fileDataPromise,\n",
       "      response: {\n",
       "        action: 'continue',\n",
       "      }\n",
       "    };\n",
       "\n",
       "    // Use a chunked sending to avoid message size limits. See b/62115660.\n",
       "    let position = 0;\n",
       "    do {\n",
       "      const length = Math.min(fileData.byteLength - position, MAX_PAYLOAD_SIZE);\n",
       "      const chunk = new Uint8Array(fileData, position, length);\n",
       "      position += length;\n",
       "\n",
       "      const base64 = btoa(String.fromCharCode.apply(null, chunk));\n",
       "      yield {\n",
       "        response: {\n",
       "          action: 'append',\n",
       "          file: file.name,\n",
       "          data: base64,\n",
       "        },\n",
       "      };\n",
       "\n",
       "      let percentDone = fileData.byteLength === 0 ?\n",
       "          100 :\n",
       "          Math.round((position / fileData.byteLength) * 100);\n",
       "      percent.textContent = `${percentDone}% done`;\n",
       "\n",
       "    } while (position < fileData.byteLength);\n",
       "  }\n",
       "\n",
       "  // All done.\n",
       "  yield {\n",
       "    response: {\n",
       "      action: 'complete',\n",
       "    }\n",
       "  };\n",
       "}\n",
       "\n",
       "scope.google = scope.google || {};\n",
       "scope.google.colab = scope.google.colab || {};\n",
       "scope.google.colab._files = {\n",
       "  _uploadFiles,\n",
       "  _uploadFilesContinue,\n",
       "};\n",
       "})(self);\n",
       "</script> "
      ],
      "text/plain": [
       "<IPython.core.display.HTML object>"
      ]
     },
     "metadata": {},
     "output_type": "display_data"
    },
    {
     "name": "stdout",
     "output_type": "stream",
     "text": [
      "Saving wound_label.npy to wound_label (1).npy\n",
      "Saving wound_features.npy to wound_features (1).npy\n"
     ]
    }
   ],
   "source": [
    "from google.colab import files\n",
    "uploaded = files.upload()"
   ]
  },
  {
   "cell_type": "code",
   "execution_count": null,
   "metadata": {
    "colab": {
     "base_uri": "https://localhost:8080/",
     "height": 303
    },
    "id": "4IbZtBUkLse-",
    "outputId": "1bdb31c9-7f8f-41c6-c129-63b265debac6"
   },
   "outputs": [
    {
     "name": "stdout",
     "output_type": "stream",
     "text": [
      "torch.Size([100, 50, 50, 3]) torch.Size([100])\n"
     ]
    },
    {
     "data": {
      "text/plain": [
       "<matplotlib.image.AxesImage at 0x7fd3c86f9b20>"
      ]
     },
     "execution_count": 109,
     "metadata": {},
     "output_type": "execute_result"
    },
    {
     "data": {
      "image/png": "[encoded data removed]",
      "text/plain": [
       "<Figure size 432x288 with 1 Axes>"
      ]
     },
     "metadata": {
      "needs_background": "light"
     },
     "output_type": "display_data"
    }
   ],
   "source": [
    "X = np.load('wound_features.npy', encoding = 'bytes')\n",
    "Y = np.load('wound_label.npy', encoding = 'bytes')\n",
    "XTr, XTe, YTr, YTe = train_test_split(X,Y,test_size = 0.25)\n",
    "\n",
    "batch_size = 100\n",
    "\n",
    "torch_XTr = torch.tensor(XTr)\n",
    "torch_YTr = torch.tensor(YTr)\n",
    "torch_XTe = torch.tensor(XTe)\n",
    "torch_YTe = torch.tensor(YTe)\n",
    "\n",
    "train = torch.utils.data.TensorDataset(torch_XTr, torch_YTr)\n",
    "train_loader = torch.utils.data.DataLoader(train, batch_size = batch_size, shuffle = True)\n",
    "\n",
    "test = torch.utils.data.TensorDataset(torch_XTe, torch_YTe)\n",
    "test_loader = torch.utils.data.DataLoader(test, batch_size = batch_size, shuffle = False)\n",
    "\n",
    "X, Y = next(iter(train_loader))\n",
    "print(X.shape, Y.shape)\n",
    "\n",
    "plt.imshow(XTr[100,:,:,0])"
   ]
  },
  {
   "cell_type": "code",
   "execution_count": null,
   "metadata": {
    "colab": {
     "base_uri": "https://localhost:8080/"
    },
    "id": "XgfyBkndOFlD",
    "outputId": "dd352fa6-1c46-47dd-f966-9ee0705cbb62"
   },
   "outputs": [
    {
     "name": "stdout",
     "output_type": "stream",
     "text": [
      "cpu\n"
     ]
    }
   ],
   "source": [
    "# Check GPU availability\n",
    "device = torch.device('cuda:0' if torch.cuda.is_available() else 'cpu')\n",
    "print(device)"
   ]
  },
  {
   "cell_type": "markdown",
   "metadata": {
    "id": "rGjfH9RyLX4p"
   },
   "source": [
    "## MLP\n",
    "\n"
   ]
  },
  {
   "cell_type": "code",
   "execution_count": null,
   "metadata": {
    "id": "Oqz8ldBsMf0A"
   },
   "outputs": [],
   "source": [
    "# Hyperparameter\n",
    "num_epochs_mlp = 50\n",
    "num_classes = 6\n",
    "batch_size = 100\n",
    "learning_rate_mlp = 1e-5\n",
    "input_size = 7500\n",
    "hidden_size = 100"
   ]
  },
  {
   "cell_type": "code",
   "execution_count": null,
   "metadata": {
    "colab": {
     "base_uri": "https://localhost:8080/"
    },
    "id": "4ISaHRsbK9Ox",
    "outputId": "ec03bcba-79b1-4646-a7a2-f940bdfc8d48"
   },
   "outputs": [
    {
     "name": "stdout",
     "output_type": "stream",
     "text": [
      "NeuralNet(\n",
      "  (fc1): Sequential(\n",
      "    (0): Linear(in_features=7500, out_features=100, bias=True)\n",
      "    (1): ReLU()\n",
      "  )\n",
      "  (fc2): Sequential(\n",
      "    (0): Linear(in_features=100, out_features=8000, bias=True)\n",
      "    (1): ReLU()\n",
      "  )\n",
      "  (fc3): Sequential(\n",
      "    (0): Linear(in_features=8000, out_features=8000, bias=True)\n",
      "    (1): ReLU()\n",
      "  )\n",
      "  (fc): Linear(in_features=8000, out_features=6, bias=True)\n",
      ")\n",
      "tensor(8.2495, grad_fn=<NllLossBackward0>)\n"
     ]
    }
   ],
   "source": [
    "class NeuralNet(nn.Module):\n",
    "  def __init__(self, input_size = 7500, hidden_size = 8000, num_classes = 6):\n",
    "    super(NeuralNet, self).__init__()\n",
    "    self.fc1 = nn.Sequential(\n",
    "        nn.Linear(input_size, hidden_size),\n",
    "        nn.ReLU())\n",
    "    self.fc2 = nn.Sequential(\n",
    "        nn.Linear(hidden_size, 8000),\n",
    "        nn.ReLU())\n",
    "    self.fc3 = nn.Sequential(\n",
    "        nn.Linear(8000, 8000),\n",
    "        nn.ReLU())\n",
    "    self.fc = nn.Linear(8000, num_classes)\n",
    "\n",
    "  def forward(self, x):\n",
    "    x = torch.swapaxes(x, 1,3)\n",
    "    x = x.reshape(-1,3*50*50)\n",
    "    out = self.fc1(x)\n",
    "    out = self.fc2(out)\n",
    "    out = self.fc(out)\n",
    "    return out\n",
    "\n",
    "mlp = NeuralNet(input_size, hidden_size, num_classes).to(device)\n",
    "criterion = nn.CrossEntropyLoss()\n",
    "optimizer = torch.optim.Adam(mlp.parameters(), lr = learning_rate_mlp)\n",
    "print(mlp)\n",
    "#test run to check loss\n",
    "output = mlp(X.float())\n",
    "loss = criterion(output,Y)\n",
    "print(loss)"
   ]
  },
  {
   "cell_type": "code",
   "execution_count": null,
   "metadata": {
    "colab": {
     "base_uri": "https://localhost:8080/"
    },
    "id": "R5P6fbAZwurh",
    "outputId": "97d562e9-26f3-4d19-b91c-083fc4e73155"
   },
   "outputs": [
    {
     "name": "stdout",
     "output_type": "stream",
     "text": [
      "Epoch [1/50], Step [6/6], Loss: 6.2276, Train Accuracy: 17.496855345911946\n",
      "Epoch [1/50],  Step [2/2], Loss: 4.8516, Test Accuracy: 15.823529411764708\n",
      "Epoch [2/50], Step [6/6], Loss: 4.5553, Train Accuracy: 19.440251572327046\n",
      "Epoch [2/50],  Step [2/2], Loss: 3.8307, Test Accuracy: 18.676470588235293\n",
      "Epoch [3/50], Step [6/6], Loss: 3.3210, Train Accuracy: 20.848008385744237\n",
      "Epoch [3/50],  Step [2/2], Loss: 3.0420, Test Accuracy: 19.76470588235294\n",
      "Epoch [4/50], Step [6/6], Loss: 2.4997, Train Accuracy: 22.209119496855344\n",
      "Epoch [4/50],  Step [2/2], Loss: 2.5792, Test Accuracy: 23.02941176470588\n",
      "Epoch [5/50], Step [6/6], Loss: 2.0256, Train Accuracy: 25.110062893081757\n",
      "Epoch [5/50],  Step [2/2], Loss: 2.5033, Test Accuracy: 24.770588235294117\n",
      "Epoch [6/50], Step [6/6], Loss: 2.0451, Train Accuracy: 27.053459119496846\n",
      "Epoch [6/50],  Step [2/2], Loss: 2.2848, Test Accuracy: 26.151960784313726\n",
      "Epoch [7/50], Step [6/6], Loss: 2.1190, Train Accuracy: 28.336028751123095\n",
      "Epoch [7/50],  Step [2/2], Loss: 2.2503, Test Accuracy: 27.281512605042018\n",
      "Epoch [8/50], Step [6/6], Loss: 1.6658, Train Accuracy: 30.00825471698113\n",
      "Epoch [8/50],  Step [2/2], Loss: 2.0182, Test Accuracy: 28.16176470588235\n",
      "Epoch [9/50], Step [6/6], Loss: 1.6394, Train Accuracy: 31.514675052410894\n",
      "Epoch [9/50],  Step [2/2], Loss: 1.9929, Test Accuracy: 29.30065359477124\n",
      "Epoch [10/50], Step [6/6], Loss: 1.6721, Train Accuracy: 32.79779874213836\n",
      "Epoch [10/50],  Step [2/2], Loss: 1.9634, Test Accuracy: 30.13529411764706\n",
      "Epoch [11/50], Step [6/6], Loss: 1.7642, Train Accuracy: 34.0611778158948\n",
      "Epoch [11/50],  Step [2/2], Loss: 1.9402, Test Accuracy: 31.024064171123\n",
      "Epoch [12/50], Step [6/6], Loss: 1.2908, Train Accuracy: 35.11399371069183\n",
      "Epoch [12/50],  Step [2/2], Loss: 1.8471, Test Accuracy: 31.855392156862745\n",
      "Epoch [13/50], Step [6/6], Loss: 1.2526, Train Accuracy: 36.1715045960329\n",
      "Epoch [13/50],  Step [2/2], Loss: 1.9936, Test Accuracy: 32.411764705882355\n",
      "Epoch [14/50], Step [6/6], Loss: 1.6471, Train Accuracy: 37.035714285714285\n",
      "Epoch [14/50],  Step [2/2], Loss: 1.7824, Test Accuracy: 32.96008403361345\n",
      "Epoch [15/50], Step [6/6], Loss: 1.0984, Train Accuracy: 37.91174004192871\n",
      "Epoch [15/50],  Step [2/2], Loss: 1.8049, Test Accuracy: 33.46274509803922\n",
      "Epoch [16/50], Step [6/6], Loss: 1.1873, Train Accuracy: 38.69791666666667\n",
      "Epoch [16/50],  Step [2/2], Loss: 1.8243, Test Accuracy: 33.876838235294116\n",
      "Epoch [17/50], Step [6/6], Loss: 1.4678, Train Accuracy: 39.51368849426564\n",
      "Epoch [17/50],  Step [2/2], Loss: 1.6926, Test Accuracy: 34.325259515570934\n",
      "Epoch [18/50], Step [6/6], Loss: 1.0378, Train Accuracy: 40.34154437456325\n",
      "Epoch [18/50],  Step [2/2], Loss: 1.8483, Test Accuracy: 34.78431372549019\n",
      "Epoch [19/50], Step [6/6], Loss: 1.4342, Train Accuracy: 41.13505461767627\n",
      "Epoch [19/50],  Step [2/2], Loss: 1.7591, Test Accuracy: 35.29721362229102\n",
      "Epoch [20/50], Step [6/6], Loss: 1.2143, Train Accuracy: 41.96666666666667\n",
      "Epoch [20/50],  Step [2/2], Loss: 1.7330, Test Accuracy: 35.71617647058824\n",
      "Epoch [21/50], Step [6/6], Loss: 1.1348, Train Accuracy: 42.821353698712194\n",
      "Epoch [21/50],  Step [2/2], Loss: 1.8178, Test Accuracy: 36.02380952380952\n",
      "Epoch [22/50], Step [6/6], Loss: 1.2097, Train Accuracy: 43.675814751286445\n",
      "Epoch [22/50],  Step [2/2], Loss: 1.6210, Test Accuracy: 36.451871657754005\n",
      "Epoch [23/50], Step [6/6], Loss: 1.1728, Train Accuracy: 44.470467596390485\n",
      "Epoch [23/50],  Step [2/2], Loss: 1.7921, Test Accuracy: 36.643222506393855\n",
      "Epoch [24/50], Step [6/6], Loss: 1.4759, Train Accuracy: 45.117924528301884\n",
      "Epoch [24/50],  Step [2/2], Loss: 1.6550, Test Accuracy: 36.939950980392155\n",
      "Epoch [25/50], Step [6/6], Loss: 1.0450, Train Accuracy: 45.738742138364785\n",
      "Epoch [25/50],  Step [2/2], Loss: 1.7568, Test Accuracy: 37.3635294117647\n",
      "Epoch [26/50], Step [6/6], Loss: 0.8715, Train Accuracy: 46.45343492985002\n",
      "Epoch [26/50],  Step [2/2], Loss: 1.6775, Test Accuracy: 37.60972850678733\n",
      "Epoch [27/50], Step [6/6], Loss: 0.9238, Train Accuracy: 47.1714418821337\n",
      "Epoch [27/50],  Step [2/2], Loss: 1.7049, Test Accuracy: 37.91830065359477\n",
      "Epoch [28/50], Step [6/6], Loss: 0.6722, Train Accuracy: 47.928683737646\n",
      "Epoch [28/50],  Step [2/2], Loss: 1.7225, Test Accuracy: 38.13025210084034\n",
      "Epoch [29/50], Step [6/6], Loss: 0.8868, Train Accuracy: 48.621014964215995\n",
      "Epoch [29/50],  Step [2/2], Loss: 1.7116, Test Accuracy: 38.36206896551724\n",
      "Epoch [30/50], Step [6/6], Loss: 0.7320, Train Accuracy: 49.35293501048218\n",
      "Epoch [30/50],  Step [2/2], Loss: 1.6630, Test Accuracy: 38.645098039215675\n",
      "Epoch [31/50], Step [6/6], Loss: 0.7746, Train Accuracy: 50.01196997362548\n",
      "Epoch [31/50],  Step [2/2], Loss: 1.6895, Test Accuracy: 38.832068311195435\n",
      "Epoch [32/50], Step [6/6], Loss: 0.8367, Train Accuracy: 50.63620283018868\n",
      "Epoch [32/50],  Step [2/2], Loss: 1.7518, Test Accuracy: 39.0358455882353\n",
      "Epoch [33/50], Step [6/6], Loss: 0.6931, Train Accuracy: 51.26014865637508\n",
      "Epoch [33/50],  Step [2/2], Loss: 1.6460, Test Accuracy: 39.29590017825312\n",
      "Epoch [34/50], Step [6/6], Loss: 0.7212, Train Accuracy: 51.83490566037736\n",
      "Epoch [34/50],  Step [2/2], Loss: 1.7171, Test Accuracy: 39.397923875432525\n",
      "Epoch [35/50], Step [6/6], Loss: 0.7911, Train Accuracy: 52.404851752021564\n",
      "Epoch [35/50],  Step [2/2], Loss: 1.7031, Test Accuracy: 39.63277310924369\n",
      "Epoch [36/50], Step [6/6], Loss: 0.5779, Train Accuracy: 52.96366177498252\n",
      "Epoch [36/50],  Step [2/2], Loss: 1.7126, Test Accuracy: 39.76388888888889\n",
      "Epoch [37/50], Step [6/6], Loss: 0.7945, Train Accuracy: 53.49830018697942\n",
      "Epoch [37/50],  Step [2/2], Loss: 1.7128, Test Accuracy: 39.9308426073132\n",
      "Epoch [38/50], Step [6/6], Loss: 0.7457, Train Accuracy: 54.03649453823238\n",
      "Epoch [38/50],  Step [2/2], Loss: 1.6682, Test Accuracy: 40.19272445820434\n",
      "Epoch [39/50], Step [6/6], Loss: 0.6546, Train Accuracy: 54.58643767134333\n",
      "Epoch [39/50],  Step [2/2], Loss: 1.6693, Test Accuracy: 40.327300150829565\n",
      "Epoch [40/50], Step [6/6], Loss: 0.5947, Train Accuracy: 55.102437106918245\n",
      "Epoch [40/50],  Step [2/2], Loss: 1.6720, Test Accuracy: 40.43014705882353\n",
      "Epoch [41/50], Step [6/6], Loss: 0.6434, Train Accuracy: 55.621721122871605\n",
      "Epoch [41/50],  Step [2/2], Loss: 1.7003, Test Accuracy: 40.55236728837877\n",
      "Epoch [42/50], Step [6/6], Loss: 0.6075, Train Accuracy: 56.136118598382744\n",
      "Epoch [42/50],  Step [2/2], Loss: 1.6525, Test Accuracy: 40.79621848739497\n",
      "Epoch [43/50], Step [6/6], Loss: 0.5450, Train Accuracy: 56.660157964019305\n",
      "Epoch [43/50],  Step [2/2], Loss: 1.6799, Test Accuracy: 40.96648426812586\n",
      "Epoch [44/50], Step [6/6], Loss: 0.6120, Train Accuracy: 57.115780445969136\n",
      "Epoch [44/50],  Step [2/2], Loss: 1.6923, Test Accuracy: 41.127005347593574\n",
      "Epoch [45/50], Step [6/6], Loss: 0.5519, Train Accuracy: 57.59517819706499\n",
      "Epoch [45/50],  Step [2/2], Loss: 1.6938, Test Accuracy: 41.27320261437908\n",
      "Epoch [46/50], Step [6/6], Loss: 0.5975, Train Accuracy: 58.05414273995078\n",
      "Epoch [46/50],  Step [2/2], Loss: 1.7021, Test Accuracy: 41.32544757033248\n",
      "Epoch [47/50], Step [6/6], Loss: 0.6107, Train Accuracy: 58.51050448280476\n",
      "Epoch [47/50],  Step [2/2], Loss: 1.7072, Test Accuracy: 41.46996245306633\n",
      "Epoch [48/50], Step [6/6], Loss: 0.5784, Train Accuracy: 58.93822064989518\n",
      "Epoch [48/50],  Step [2/2], Loss: 1.6373, Test Accuracy: 41.58946078431373\n",
      "Epoch [49/50], Step [6/6], Loss: 0.8339, Train Accuracy: 59.34661789243999\n",
      "Epoch [49/50],  Step [2/2], Loss: 1.6839, Test Accuracy: 41.74669867947179\n",
      "Epoch [50/50], Step [6/6], Loss: 0.5882, Train Accuracy: 59.76345911949685\n",
      "Epoch [50/50],  Step [2/2], Loss: 1.6953, Test Accuracy: 41.89588235294118\n"
     ]
    }
   ],
   "source": [
    "# Train the model\n",
    "total_steptr = len(train_loader)\n",
    "total_stepte = len(test_loader)\n",
    "train_loss = []\n",
    "train_acc = []\n",
    "test_loss = []\n",
    "test_acc = []\n",
    "train_lossnew = np.zeros(shape=(num_epochs_mlp*len(train_loader)))\n",
    "test_lossnew = np.zeros(shape=(num_epochs_mlp*len(test_loader)))\n",
    "train_accnew = np.zeros(shape=(num_epochs_mlp*len(train_loader)),dtype=np.float64)\n",
    "test_accnew = np.zeros(shape=(num_epochs_mlp*len(test_loader)),dtype = np.float64)\n",
    "z = 0\n",
    "b = 0\n",
    "\n",
    "#Train Model\n",
    "for epoch in range(num_epochs_mlp):    \n",
    "    for i, (X, Y) in enumerate(train_loader):\n",
    "        mlp.train()\n",
    "        X = X.to(device)\n",
    "        Y = Y.to(device)\n",
    "\n",
    "        # Forward pass       \n",
    "        outputs = mlp(X.float())   \n",
    "\n",
    "        # Calculate Loss     \n",
    "        loss = criterion(outputs, Y)\n",
    "\n",
    "        # Backward and optimize   \n",
    "        optimizer.zero_grad()     \n",
    "        loss.backward()\n",
    "        optimizer.step()     \n",
    "        _, predictedtr = torch.max(outputs.data, 1)\n",
    "        train_loss.append(loss.item())\n",
    "        train_acc.append((predictedtr == Y).sum().item() / predictedtr.size(0))  \n",
    "\n",
    "        #store loss and iteration\n",
    "        \n",
    "        if (i+1) % 6 == 0:                       \n",
    "            print ('Epoch [{}/{}], Step [{}/{}], Loss: {:.4f}, Train Accuracy: {}' \n",
    "                  .format(epoch+1, num_epochs_mlp, (i+1), total_steptr, loss.item(),(100*np.mean(train_acc))))   \n",
    "            train_lossnew[z+5] = loss.item()                          \n",
    "            train_accnew[z+5] = 100*np.mean(train_acc)\n",
    "            z += 5\n",
    "#Test Model         \n",
    "    with torch.no_grad():              \n",
    "        for j, (X, Y) in enumerate(test_loader):\n",
    "            mlp.eval()\n",
    "            X = X.to(device)\n",
    "            Y = Y.to(device)\n",
    "            outputs = mlp(X.float())\n",
    "            loss2 = criterion(outputs, Y)\n",
    "            test_loss.append(loss2.item())\n",
    "            _, predictedte = torch.max(outputs.data, 1)\n",
    "            test_acc.append((predictedte == Y).sum().item() / predictedte.size(0))\n",
    "\n",
    "            if (j+1) % 2 == 0:    \n",
    "                print('Epoch [{}/{}],  Step [{}/{}], Loss: {:.4f}, Test Accuracy: {}' \n",
    "                    .format(epoch+1, num_epochs_mlp, (j+1), total_stepte, loss2.item(),(100*np.mean(test_acc))))    \n",
    "                test_lossnew[b+1] = loss2.item()     \n",
    "                test_accnew[b+1] = 100*np.mean(test_acc)\n",
    "                b += 1"
   ]
  },
  {
   "cell_type": "code",
   "execution_count": null,
   "metadata": {
    "colab": {
     "base_uri": "https://localhost:8080/"
    },
    "id": "RCXoabT0xI7_",
    "outputId": "c8f6cff0-86f1-400c-e162-cd2eb815a919"
   },
   "outputs": [
    {
     "name": "stdout",
     "output_type": "stream",
     "text": [
      "-------Precision, Recall, F1-Score, and Suport of MLP---------\n",
      "\n",
      "              precision    recall  f1-score   support\n",
      "\n",
      "           0       0.76      0.70      0.73        23\n",
      "           1       0.43      0.58      0.50        43\n",
      "           2       0.67      0.72      0.69        25\n",
      "           3       0.10      0.04      0.06        25\n",
      "           4       0.38      0.26      0.31        35\n",
      "           5       0.49      0.65      0.56        34\n",
      "\n",
      "    accuracy                           0.49       185\n",
      "   macro avg       0.47      0.49      0.47       185\n",
      "weighted avg       0.46      0.49      0.47       185\n",
      "\n"
     ]
    }
   ],
   "source": [
    "train_lossnew = train_lossnew[train_lossnew != 0]\n",
    "train_accnew = train_accnew[train_accnew != 0]  \n",
    "\n",
    "test_lossnew = test_lossnew[test_lossnew != 0]\n",
    "test_accnew = test_accnew[test_accnew != 0]  \n",
    "\n",
    "#Classification Report\n",
    "y_pred_list = []\n",
    "y_target_list = []\n",
    "with torch.no_grad():\n",
    "    mlp.eval()\n",
    "    for X, Y in test_loader:\n",
    "        X = X.to(device)\n",
    "        Y = Y.to(device)\n",
    "        outputs = mlp(X.float())        \n",
    "        _, y_pred_tags = torch.max(outputs, 1)\n",
    "        y_pred_list.append(y_pred_tags.cpu().numpy())\n",
    "        y_target_list.append(Y.detach().numpy())\n",
    "\n",
    "y_pred_list = [a.squeeze().tolist() for a in y_pred_list]\n",
    "y_pred_list = sum(y_pred_list, [])\n",
    "\n",
    "y_target_list = [a.squeeze().tolist() for a in y_target_list]\n",
    "y_target_list = sum(y_target_list, [])\n",
    "\n",
    "\n",
    "print(\"-------Precision, Recall, F1-Score, and Suport of MLP---------\")\n",
    "print()\n",
    "print(classification_report(y_target_list, y_pred_list))"
   ]
  },
  {
   "cell_type": "code",
   "execution_count": null,
   "metadata": {
    "colab": {
     "base_uri": "https://localhost:8080/",
     "height": 1000
    },
    "id": "9FWHBOctxS-c",
    "outputId": "520d0598-09bd-4107-be9c-1bf67d00f4f7"
   },
   "outputs": [
    {
     "data": {
      "text/plain": [
       "<matplotlib.legend.Legend at 0x7fd3c8661ee0>"
      ]
     },
     "execution_count": 115,
     "metadata": {},
     "output_type": "execute_result"
    },
    {
     "data": {
      "image/png": "[encoded data removed]",
      "text/plain": [
       "<Figure size 576x576 with 1 Axes>"
      ]
     },
     "metadata": {
      "needs_background": "light"
     },
     "output_type": "display_data"
    },
    {
     "data": {
      "image/png": "[encoded data removed]",
      "text/plain": [
       "<Figure size 576x576 with 1 Axes>"
      ]
     },
     "metadata": {
      "needs_background": "light"
     },
     "output_type": "display_data"
    }
   ],
   "source": [
    "#Visualization of Loss and Accuracy\n",
    "fig1 = plt.figure(figsize=(8,8))\n",
    "X1 = fig1.add_subplot(1,1,1)\n",
    "X1.plot(train_lossnew, label = 'Train Loss')\n",
    "X1.plot(test_lossnew, label = 'Test Loss')\n",
    "X1.set_title('MLP: Train and Test Loss over Number of Epochs', fontsize = 14, fontweight = 'bold')\n",
    "X1.set_xlabel('Number of Epochs',fontsize = 14, fontweight = 'bold')\n",
    "X1.set_ylabel('Loss Value',fontsize = 14, fontweight = 'bold')\n",
    "X1.legend(fontsize = 14)\n",
    "\n",
    "\n",
    "\n",
    "fig2 = plt.figure(figsize=(8,8))\n",
    "X2 = fig2.add_subplot(1,1,1)\n",
    "X2.plot(train_accnew, label = 'Train Accuracy')\n",
    "X2.plot(test_accnew, label = 'Test Accuracy')\n",
    "X2.set_ylim([0, 100])\n",
    "X2.set_title('MLP: Train and Test Accuracy over Number of Epochs', fontsize = 14, fontweight = 'bold')\n",
    "X2.set_xlabel('Number of Epochs',fontsize = 14, fontweight = 'bold')\n",
    "X2.set_ylabel('Accuracy (%)',fontsize = 14, fontweight = 'bold')\n",
    "X2.legend(fontsize = 14)"
   ]
  },
  {
   "cell_type": "markdown",
   "metadata": {
    "id": "qlGmY37zVkUi"
   },
   "source": [
    "## CNN"
   ]
  },
  {
   "cell_type": "code",
   "execution_count": null,
   "metadata": {
    "id": "5A9tOdw0Vob7"
   },
   "outputs": [],
   "source": [
    "# Hyperparameters\n",
    "num_epochs_cnn = 50\n",
    "num_classes_cnn = 6\n",
    "batch_size_cnn = 100\n",
    "learning_rate_cnn = 1e-4"
   ]
  },
  {
   "cell_type": "markdown",
   "metadata": {
    "id": "DvKfFU6_htqi"
   },
   "source": [
    "### CNN layers\n",
    "- Layer 1: Perform Convolution to a 2D data, then Batch Normalization, then a Tanh activation funtion, and lastly applying a 2D Max-Pooling layer\n",
    "- Layer 2: Perform Convolution to the 2D data that outputs from first layer, then Batch Normalization, then a ReLU activation function, and lastly applying a 2D Max-Pooling layer\n",
    "- Fully Connected Linear Layer\n",
    "- Implement a forward method"
   ]
  },
  {
   "cell_type": "code",
   "execution_count": null,
   "metadata": {
    "colab": {
     "base_uri": "https://localhost:8080/"
    },
    "id": "UrxX4yqGhvhr",
    "outputId": "ca1a81b3-2c1c-4251-9172-146593d77efa"
   },
   "outputs": [
    {
     "name": "stdout",
     "output_type": "stream",
     "text": [
      "torch.Size([85, 50, 50, 3])\n"
     ]
    }
   ],
   "source": [
    "# CNN\n",
    "print(X.shape) #Check original shape of X\n",
    "class ConvNet(nn.Module):\n",
    "  def __init__(self, num_classes_cnn = 6):\n",
    "    super(ConvNet, self).__init__()\n",
    "    self.layer1 = nn.Sequential(\n",
    "        nn.Conv2d(3, 64, kernel_size = 4, stride = 1, padding = 2),\n",
    "        nn.BatchNorm2d(64),        \n",
    "        nn.Tanh(),\n",
    "        nn.MaxPool2d(kernel_size = 2, stride = 2)\n",
    "    )\n",
    "    self.layer2 = nn.Sequential(\n",
    "        nn.Conv2d(64, 128, kernel_size = 4, stride = 1, padding = 2),\n",
    "        nn.BatchNorm2d(128),\n",
    "        nn.ReLU(),\n",
    "        nn.MaxPool2d(kernel_size = 2, stride = 2)  \n",
    "    )\n",
    "    self.fc = nn.Linear(21632, num_classes_cnn)\n",
    "\n",
    "  def forward(self, X):\n",
    "    X = torch.swapaxes(X, 1,3)\n",
    "    out = self.layer1(X.float())    \n",
    "    out = self.layer2(out)   \n",
    "    out = out.reshape(out.size(0), -1)    \n",
    "    out = self.fc(out)\n",
    "    return out"
   ]
  },
  {
   "cell_type": "code",
   "execution_count": null,
   "metadata": {
    "colab": {
     "base_uri": "https://localhost:8080/"
    },
    "id": "eurKmd5_iIN5",
    "outputId": "4e4dbc18-208d-4c2c-aa36-5f46165bf206"
   },
   "outputs": [
    {
     "name": "stdout",
     "output_type": "stream",
     "text": [
      "torch.Size([85, 6])\n"
     ]
    }
   ],
   "source": [
    "cnn = ConvNet(num_classes_cnn).to(device)\n",
    "output = cnn(X)\n",
    "print(output.shape)"
   ]
  },
  {
   "cell_type": "markdown",
   "metadata": {
    "id": "pFBrVD7yiPQK"
   },
   "source": [
    "#### Implement CrossEntropyLoss function to measure the performance of the CNN classification model."
   ]
  },
  {
   "cell_type": "code",
   "execution_count": null,
   "metadata": {
    "colab": {
     "base_uri": "https://localhost:8080/"
    },
    "id": "EUjQpSPCiQLP",
    "outputId": "77f7f7ac-5e7e-4380-dd3f-a51e74c75887"
   },
   "outputs": [
    {
     "name": "stdout",
     "output_type": "stream",
     "text": [
      "ConvNet(\n",
      "  (layer1): Sequential(\n",
      "    (0): Conv2d(3, 64, kernel_size=(4, 4), stride=(1, 1), padding=(2, 2))\n",
      "    (1): BatchNorm2d(64, eps=1e-05, momentum=0.1, affine=True, track_running_stats=True)\n",
      "    (2): Tanh()\n",
      "    (3): MaxPool2d(kernel_size=2, stride=2, padding=0, dilation=1, ceil_mode=False)\n",
      "  )\n",
      "  (layer2): Sequential(\n",
      "    (0): Conv2d(64, 128, kernel_size=(4, 4), stride=(1, 1), padding=(2, 2))\n",
      "    (1): BatchNorm2d(128, eps=1e-05, momentum=0.1, affine=True, track_running_stats=True)\n",
      "    (2): ReLU()\n",
      "    (3): MaxPool2d(kernel_size=2, stride=2, padding=0, dilation=1, ceil_mode=False)\n",
      "  )\n",
      "  (fc): Linear(in_features=21632, out_features=6, bias=True)\n",
      ")\n",
      "tensor(1.8835, grad_fn=<NllLossBackward0>)\n"
     ]
    }
   ],
   "source": [
    "criterion = nn.CrossEntropyLoss()\n",
    "optimizer = torch.optim.Adam(cnn.parameters(), lr = learning_rate_cnn)\n",
    "print(cnn)\n",
    "#test run to check loss\n",
    "loss = criterion(output,Y)\n",
    "print(loss)"
   ]
  },
  {
   "cell_type": "markdown",
   "metadata": {
    "id": "C77O80u8iUsi"
   },
   "source": [
    "#### Train then Test Model.\n",
    "- Shows Train and Test loss and accuracy for each Epoch"
   ]
  },
  {
   "cell_type": "code",
   "execution_count": null,
   "metadata": {
    "colab": {
     "base_uri": "https://localhost:8080/"
    },
    "id": "PUG9Ja6ViVZD",
    "outputId": "cbc86556-d685-4163-cb60-31c5994d1e8b"
   },
   "outputs": [
    {
     "name": "stdout",
     "output_type": "stream",
     "text": [
      "Epoch [1/50], Step [6/6], Loss: 1.6068, Train Accuracy: 35.58490566037736\n",
      "Epoch [1/50],  Step [2/2], Loss: 1.5796, Test Accuracy: 38.911764705882355\n",
      "Epoch [2/50], Step [6/6], Loss: 0.9449, Train Accuracy: 45.314465408805034\n",
      "Epoch [2/50],  Step [2/2], Loss: 1.2956, Test Accuracy: 45.26470588235295\n",
      "Epoch [3/50], Step [6/6], Loss: 0.8186, Train Accuracy: 51.79769392033543\n",
      "Epoch [3/50],  Step [2/2], Loss: 1.1935, Test Accuracy: 47.86274509803922\n",
      "Epoch [4/50], Step [6/6], Loss: 0.8194, Train Accuracy: 55.95125786163522\n",
      "Epoch [4/50],  Step [2/2], Loss: 1.1272, Test Accuracy: 50.74999999999999\n",
      "Epoch [5/50], Step [6/6], Loss: 0.7227, Train Accuracy: 58.272955974842766\n",
      "Epoch [5/50],  Step [2/2], Loss: 1.1167, Test Accuracy: 51.558823529411754\n",
      "Epoch [6/50], Step [6/6], Loss: 0.7185, Train Accuracy: 60.68501048218029\n",
      "Epoch [6/50],  Step [2/2], Loss: 1.0532, Test Accuracy: 52.75490196078431\n",
      "Epoch [7/50], Step [6/6], Loss: 0.8080, Train Accuracy: 62.18059299191374\n",
      "Epoch [7/50],  Step [2/2], Loss: 1.0836, Test Accuracy: 53.739495798319325\n",
      "Epoch [8/50], Step [6/6], Loss: 0.6211, Train Accuracy: 64.01493710691824\n",
      "Epoch [8/50],  Step [2/2], Loss: 1.0214, Test Accuracy: 54.6139705882353\n",
      "Epoch [9/50], Step [6/6], Loss: 0.5290, Train Accuracy: 65.8654786862334\n",
      "Epoch [9/50],  Step [2/2], Loss: 1.0820, Test Accuracy: 55.166666666666664\n",
      "Epoch [10/50], Step [6/6], Loss: 0.5868, Train Accuracy: 67.52735849056603\n",
      "Epoch [10/50],  Step [2/2], Loss: 1.0264, Test Accuracy: 55.78235294117647\n",
      "Epoch [11/50], Step [6/6], Loss: 0.5772, Train Accuracy: 68.94939965694682\n",
      "Epoch [11/50],  Step [2/2], Loss: 1.0300, Test Accuracy: 56.63101604278074\n",
      "Epoch [12/50], Step [6/6], Loss: 0.4140, Train Accuracy: 70.51231656184487\n",
      "Epoch [12/50],  Step [2/2], Loss: 1.0071, Test Accuracy: 57.25245098039217\n",
      "Epoch [13/50], Step [6/6], Loss: 0.4456, Train Accuracy: 71.8805031446541\n",
      "Epoch [13/50],  Step [2/2], Loss: 1.0508, Test Accuracy: 57.522624434389144\n",
      "Epoch [14/50], Step [6/6], Loss: 0.3056, Train Accuracy: 73.08355795148248\n",
      "Epoch [14/50],  Step [2/2], Loss: 0.9707, Test Accuracy: 58.05252100840337\n",
      "Epoch [15/50], Step [6/6], Loss: 0.3121, Train Accuracy: 74.35828092243186\n",
      "Epoch [15/50],  Step [2/2], Loss: 0.9900, Test Accuracy: 58.62352941176472\n",
      "Epoch [16/50], Step [6/6], Loss: 0.3167, Train Accuracy: 75.39268867924528\n",
      "Epoch [16/50],  Step [2/2], Loss: 1.0201, Test Accuracy: 58.80330882352941\n",
      "Epoch [17/50], Step [6/6], Loss: 0.3448, Train Accuracy: 76.35331113577506\n",
      "Epoch [17/50],  Step [2/2], Loss: 0.9698, Test Accuracy: 59.247404844290664\n",
      "Epoch [18/50], Step [6/6], Loss: 0.3185, Train Accuracy: 77.35744234800838\n",
      "Epoch [18/50],  Step [2/2], Loss: 1.0200, Test Accuracy: 59.49346405228758\n",
      "Epoch [19/50], Step [6/6], Loss: 0.3612, Train Accuracy: 78.07944389275076\n",
      "Epoch [19/50],  Step [2/2], Loss: 0.9610, Test Accuracy: 59.890092879256976\n",
      "Epoch [20/50], Step [6/6], Loss: 0.3948, Train Accuracy: 78.93663522012578\n",
      "Epoch [20/50],  Step [2/2], Loss: 1.0173, Test Accuracy: 60.13382352941177\n",
      "Epoch [21/50], Step [6/6], Loss: 0.1973, Train Accuracy: 79.67070979335129\n",
      "Epoch [21/50],  Step [2/2], Loss: 1.0029, Test Accuracy: 60.50560224089636\n",
      "Epoch [22/50], Step [6/6], Loss: 0.2783, Train Accuracy: 80.43825042881647\n",
      "Epoch [22/50],  Step [2/2], Loss: 0.9919, Test Accuracy: 60.744652406417124\n",
      "Epoch [23/50], Step [6/6], Loss: 0.2970, Train Accuracy: 81.14629477713973\n",
      "Epoch [23/50],  Step [2/2], Loss: 1.0196, Test Accuracy: 60.92327365728901\n",
      "Epoch [24/50], Step [6/6], Loss: 0.2231, Train Accuracy: 81.80149371069183\n",
      "Epoch [24/50],  Step [2/2], Loss: 1.0078, Test Accuracy: 61.12499999999999\n",
      "Epoch [25/50], Step [6/6], Loss: 0.2311, Train Accuracy: 82.43169811320755\n",
      "Epoch [25/50],  Step [2/2], Loss: 1.0031, Test Accuracy: 61.29411764705882\n",
      "Epoch [26/50], Step [6/6], Loss: 0.2449, Train Accuracy: 82.98705853894535\n",
      "Epoch [26/50],  Step [2/2], Loss: 0.9888, Test Accuracy: 61.46606334841629\n",
      "Epoch [27/50], Step [6/6], Loss: 0.1812, Train Accuracy: 83.56231073841136\n",
      "Epoch [27/50],  Step [2/2], Loss: 1.0654, Test Accuracy: 61.62527233115469\n",
      "Epoch [28/50], Step [6/6], Loss: 0.1365, Train Accuracy: 84.07199011680146\n",
      "Epoch [28/50],  Step [2/2], Loss: 1.0117, Test Accuracy: 61.71638655462185\n",
      "Epoch [29/50], Step [6/6], Loss: 0.2163, Train Accuracy: 84.54272392105834\n",
      "Epoch [29/50],  Step [2/2], Loss: 1.0435, Test Accuracy: 61.83874239350913\n",
      "Epoch [30/50], Step [6/6], Loss: 0.1648, Train Accuracy: 85.00241090146751\n",
      "Epoch [30/50],  Step [2/2], Loss: 1.0373, Test Accuracy: 61.93333333333334\n",
      "Epoch [31/50], Step [6/6], Loss: 0.1097, Train Accuracy: 85.43781700142017\n",
      "Epoch [31/50],  Step [2/2], Loss: 1.0320, Test Accuracy: 62.021821631878574\n",
      "Epoch [32/50], Step [6/6], Loss: 0.1130, Train Accuracy: 85.86684355345912\n",
      "Epoch [32/50],  Step [2/2], Loss: 1.0707, Test Accuracy: 62.07077205882353\n",
      "Epoch [33/50], Step [6/6], Loss: 0.0876, Train Accuracy: 86.2749190013341\n",
      "Epoch [33/50],  Step [2/2], Loss: 1.0652, Test Accuracy: 62.14973262032086\n",
      "Epoch [34/50], Step [6/6], Loss: 0.1238, Train Accuracy: 86.65408805031446\n",
      "Epoch [34/50],  Step [2/2], Loss: 1.0616, Test Accuracy: 62.2067474048443\n",
      "Epoch [35/50], Step [6/6], Loss: 0.1027, Train Accuracy: 87.02587601078167\n",
      "Epoch [35/50],  Step [2/2], Loss: 1.0365, Test Accuracy: 62.27478991596639\n",
      "Epoch [36/50], Step [6/6], Loss: 0.0873, Train Accuracy: 87.367749825297\n",
      "Epoch [36/50],  Step [2/2], Loss: 1.1027, Test Accuracy: 62.29983660130718\n",
      "Epoch [37/50], Step [6/6], Loss: 0.0873, Train Accuracy: 87.70465748767636\n",
      "Epoch [37/50],  Step [2/2], Loss: 1.0697, Test Accuracy: 62.33465818759936\n",
      "Epoch [38/50], Step [6/6], Loss: 0.0677, Train Accuracy: 88.02383316782523\n",
      "Epoch [38/50],  Step [2/2], Loss: 1.0580, Test Accuracy: 62.378482972136204\n",
      "Epoch [39/50], Step [6/6], Loss: 0.0898, Train Accuracy: 88.32664086437671\n",
      "Epoch [39/50],  Step [2/2], Loss: 1.0918, Test Accuracy: 62.40950226244342\n",
      "Epoch [40/50], Step [6/6], Loss: 0.1156, Train Accuracy: 88.61014150943396\n",
      "Epoch [40/50],  Step [2/2], Loss: 1.0907, Test Accuracy: 62.44926470588234\n",
      "Epoch [41/50], Step [6/6], Loss: 0.0932, Train Accuracy: 88.87574781408192\n",
      "Epoch [41/50],  Step [2/2], Loss: 1.1115, Test Accuracy: 62.51793400286944\n",
      "Epoch [42/50], Step [6/6], Loss: 0.1156, Train Accuracy: 89.12518718179095\n",
      "Epoch [42/50],  Step [2/2], Loss: 1.1268, Test Accuracy: 62.55532212885153\n",
      "Epoch [43/50], Step [6/6], Loss: 0.0926, Train Accuracy: 89.37421383647799\n",
      "Epoch [43/50],  Step [2/2], Loss: 1.1116, Test Accuracy: 62.60670314637481\n",
      "Epoch [44/50], Step [6/6], Loss: 0.0959, Train Accuracy: 89.61192109777016\n",
      "Epoch [44/50],  Step [2/2], Loss: 1.1027, Test Accuracy: 62.59291443850267\n",
      "Epoch [45/50], Step [6/6], Loss: 0.0773, Train Accuracy: 89.8427672955975\n",
      "Epoch [45/50],  Step [2/2], Loss: 1.1788, Test Accuracy: 62.59084967320261\n",
      "Epoch [46/50], Step [6/6], Loss: 0.1350, Train Accuracy: 90.04990429313645\n",
      "Epoch [46/50],  Step [2/2], Loss: 1.1075, Test Accuracy: 62.6579283887468\n",
      "Epoch [47/50], Step [6/6], Loss: 0.0791, Train Accuracy: 90.25451625853073\n",
      "Epoch [47/50],  Step [2/2], Loss: 1.1464, Test Accuracy: 62.70275344180224\n",
      "Epoch [48/50], Step [6/6], Loss: 0.0822, Train Accuracy: 90.44713050314466\n",
      "Epoch [48/50],  Step [2/2], Loss: 1.1704, Test Accuracy: 62.700367647058805\n",
      "Epoch [49/50], Step [6/6], Loss: 0.0608, Train Accuracy: 90.63528430240021\n",
      "Epoch [49/50],  Step [2/2], Loss: 1.1258, Test Accuracy: 62.761104441776695\n",
      "Epoch [50/50], Step [6/6], Loss: 0.0678, Train Accuracy: 90.81924528301886\n",
      "Epoch [50/50],  Step [2/2], Loss: 1.1901, Test Accuracy: 62.74411764705881\n"
     ]
    }
   ],
   "source": [
    "# Train the model\n",
    "total_steptr = len(train_loader)\n",
    "total_stepte = len(test_loader)\n",
    "train_loss = []\n",
    "train_acc = []\n",
    "test_loss = []\n",
    "test_acc = []\n",
    "train_lossnew = np.zeros(shape=(num_epochs_cnn*len(train_loader)))\n",
    "test_lossnew = np.zeros(shape=(num_epochs_cnn*len(test_loader)))\n",
    "train_accnew = np.zeros(shape=(num_epochs_cnn*len(train_loader)),dtype=np.float64)\n",
    "test_accnew = np.zeros(shape=(num_epochs_cnn*len(test_loader)),dtype = np.float64)\n",
    "z = 0\n",
    "b = 0\n",
    "\n",
    "#Train Model\n",
    "for epoch in range(num_epochs_cnn):    \n",
    "    for i, (X, Y) in enumerate(train_loader):\n",
    "        cnn.train()\n",
    "        X = X.to(device)\n",
    "        Y = Y.to(device)\n",
    "\n",
    "        # Forward pass       \n",
    "        outputs = cnn(X)   \n",
    "\n",
    "        # Calculate Loss     \n",
    "        loss = criterion(outputs, Y)\n",
    "\n",
    "        # Backward and optimize   \n",
    "        optimizer.zero_grad()     \n",
    "        loss.backward()\n",
    "        optimizer.step()     \n",
    "        _, predictedtr = torch.max(outputs.data, 1)\n",
    "        train_loss.append(loss.item())\n",
    "        train_acc.append((predictedtr == Y).sum().item() / predictedtr.size(0))  \n",
    "\n",
    "        #store loss and iteration\n",
    "        \n",
    "        if (i+1) % 6 == 0:                       \n",
    "            print ('Epoch [{}/{}], Step [{}/{}], Loss: {:.4f}, Train Accuracy: {}' \n",
    "                  .format(epoch+1, num_epochs_cnn, (i+1), total_steptr, loss.item(),(100*np.mean(train_acc))))   \n",
    "            train_lossnew[z+5] = loss.item()                          \n",
    "            train_accnew[z+5] = 100*np.mean(train_acc)\n",
    "            z += 5\n",
    "#Test Model         \n",
    "    with torch.no_grad():              \n",
    "        for j, (X, Y) in enumerate(test_loader):\n",
    "            cnn.eval()\n",
    "            X = X.to(device)\n",
    "            Y = Y.to(device)\n",
    "            outputs = cnn(X)\n",
    "            loss2 = criterion(outputs, Y)\n",
    "            test_loss.append(loss2.item())\n",
    "            _, predictedte = torch.max(outputs.data, 1)\n",
    "            test_acc.append((predictedte == Y).sum().item() / predictedte.size(0))\n",
    "\n",
    "            if (j+1) % 2 == 0:    \n",
    "                print('Epoch [{}/{}],  Step [{}/{}], Loss: {:.4f}, Test Accuracy: {}' \n",
    "                    .format(epoch+1, num_epochs_cnn, (j+1), total_stepte, loss2.item(),(100*np.mean(test_acc))))    \n",
    "                test_lossnew[b+1] = loss2.item()     \n",
    "                test_accnew[b+1] = 100*np.mean(test_acc)\n",
    "                b += 1"
   ]
  },
  {
   "cell_type": "code",
   "execution_count": null,
   "metadata": {
    "id": "W26arBsUjYjC"
   },
   "outputs": [],
   "source": [
    "train_lossnew = train_lossnew[train_lossnew != 0]\n",
    "train_accnew = train_accnew[train_accnew != 0]  \n",
    "\n",
    "test_lossnew = test_lossnew[test_lossnew != 0]\n",
    "test_accnew = test_accnew[test_accnew != 0]  \n"
   ]
  },
  {
   "cell_type": "code",
   "execution_count": null,
   "metadata": {
    "colab": {
     "base_uri": "https://localhost:8080/"
    },
    "id": "8x3UqdhsjPUZ",
    "outputId": "4602e4d7-de96-4b6b-ba45-56ed4e6cc3db"
   },
   "outputs": [
    {
     "name": "stdout",
     "output_type": "stream",
     "text": [
      "-------Precision, Recall, F1-Score, and Suport of MLP---------\n",
      "\n",
      "              precision    recall  f1-score   support\n",
      "\n",
      "           0       0.87      0.87      0.87        23\n",
      "           1       0.64      0.53      0.58        43\n",
      "           2       0.92      0.88      0.90        25\n",
      "           3       0.55      0.24      0.33        25\n",
      "           4       0.48      0.46      0.47        35\n",
      "           5       0.48      0.82      0.61        34\n",
      "\n",
      "    accuracy                           0.62       185\n",
      "   macro avg       0.66      0.63      0.63       185\n",
      "weighted avg       0.63      0.62      0.61       185\n",
      "\n"
     ]
    }
   ],
   "source": [
    "#Classification Report\n",
    "y_pred_list = []\n",
    "y_target_list = []\n",
    "with torch.no_grad():\n",
    "    cnn.eval()\n",
    "    for X, Y in test_loader:\n",
    "        X = X.to(device)\n",
    "        Y = Y.to(device)\n",
    "        outputs = cnn(X)        \n",
    "        _, y_pred_tags = torch.max(outputs, 1)\n",
    "        y_pred_list.append(y_pred_tags.cpu().numpy())\n",
    "        y_target_list.append(Y.detach().numpy())\n",
    "\n",
    "y_pred_list = [a.squeeze().tolist() for a in y_pred_list]\n",
    "y_pred_list = sum(y_pred_list, [])\n",
    "\n",
    "y_target_list = [a.squeeze().tolist() for a in y_target_list]\n",
    "y_target_list = sum(y_target_list, [])\n",
    "\n",
    "\n",
    "print(\"-------Precision, Recall, F1-Score, and Suport of MLP---------\")\n",
    "print()\n",
    "print(classification_report(y_target_list, y_pred_list))"
   ]
  },
  {
   "cell_type": "code",
   "execution_count": null,
   "metadata": {
    "colab": {
     "base_uri": "https://localhost:8080/",
     "height": 1000
    },
    "id": "SVeTmWM3jfUw",
    "outputId": "7b4aa650-b89e-4e79-fc60-cb2d5facd751"
   },
   "outputs": [
    {
     "data": {
      "text/plain": [
       "<matplotlib.legend.Legend at 0x7fd3c8570fd0>"
      ]
     },
     "execution_count": 130,
     "metadata": {},
     "output_type": "execute_result"
    },
    {
     "data": {
      "image/png": "[encoded data removed]",
      "text/plain": [
       "<Figure size 576x576 with 1 Axes>"
      ]
     },
     "metadata": {
      "needs_background": "light"
     },
     "output_type": "display_data"
    },
    {
     "data": {
      "image/png": "[encoded data removed]",
      "text/plain": [
       "<Figure size 576x576 with 1 Axes>"
      ]
     },
     "metadata": {
      "needs_background": "light"
     },
     "output_type": "display_data"
    }
   ],
   "source": [
    "#Visualization of Loss and Accuracy\n",
    "fig1 = plt.figure(figsize=(8,8))\n",
    "X1 = fig1.add_subplot(1,1,1)\n",
    "X1.plot(train_lossnew, label = 'Train Loss')\n",
    "X1.plot(test_lossnew, label = 'Test Loss')\n",
    "X1.set_title('CNN: Train and Test Loss over Number of Epochs', fontsize = 14, fontweight = 'bold')\n",
    "X1.set_xlabel('Number of Epochs',fontsize = 14, fontweight = 'bold')\n",
    "X1.set_ylabel('Loss Value',fontsize = 14, fontweight = 'bold')\n",
    "X1.legend(fontsize = 14)\n",
    "\n",
    "fig2 = plt.figure(figsize=(8,8))\n",
    "X2 = fig2.add_subplot(1,1,1)\n",
    "X2.plot(train_accnew, label = 'Train Accuracy')\n",
    "X2.plot(test_accnew, label = 'Test Accuracy')\n",
    "X2.set_ylim((0,100))\n",
    "X2.set_title('CNN: Train and Test Accuracy over Number of Epochs', fontsize = 14, fontweight = 'bold')\n",
    "X2.set_xlabel('Number of Epochs',fontsize = 14, fontweight = 'bold')\n",
    "X2.set_ylabel('Accuracy (%)',fontsize = 14, fontweight = 'bold')\n",
    "X2.legend(fontsize = 14)"
   ]
  },
  {
   "cell_type": "markdown",
   "metadata": {
    "id": "EOKMczEaVm0e"
   },
   "source": [
    "## VGG"
   ]
  },
  {
   "cell_type": "code",
   "execution_count": null,
   "metadata": {
    "colab": {
     "base_uri": "https://localhost:8080/"
    },
    "id": "MJR1Bjcxyqql",
    "outputId": "25b3e906-35c9-44f4-b528-f7a8aab8ba98"
   },
   "outputs": [
    {
     "name": "stdout",
     "output_type": "stream",
     "text": [
      "Downloading data from https://storage.googleapis.com/tensorflow/keras-applications/vgg16/vgg16_weights_tf_dim_ordering_tf_kernels.h5\n",
      "553467096/553467096 [==============================] - 5s 0us/step\n",
      "Model: \"vgg16\"\n",
      "_________________________________________________________________\n",
      " Layer (type)                Output Shape              Param #   \n",
      "=================================================================\n",
      " input_1 (InputLayer)        [(None, 224, 224, 3)]     0         \n",
      "                                                                 \n",
      " block1_conv1 (Conv2D)       (None, 224, 224, 64)      1792      \n",
      "                                                                 \n",
      " block1_conv2 (Conv2D)       (None, 224, 224, 64)      36928     \n",
      "                                                                 \n",
      " block1_pool (MaxPooling2D)  (None, 112, 112, 64)      0         \n",
      "                                                                 \n",
      " block2_conv1 (Conv2D)       (None, 112, 112, 128)     73856     \n",
      "                                                                 \n",
      " block2_conv2 (Conv2D)       (None, 112, 112, 128)     147584    \n",
      "                                                                 \n",
      " block2_pool (MaxPooling2D)  (None, 56, 56, 128)       0         \n",
      "                                                                 \n",
      " block3_conv1 (Conv2D)       (None, 56, 56, 256)       295168    \n",
      "                                                                 \n",
      " block3_conv2 (Conv2D)       (None, 56, 56, 256)       590080    \n",
      "                                                                 \n",
      " block3_conv3 (Conv2D)       (None, 56, 56, 256)       590080    \n",
      "                                                                 \n",
      " block3_pool (MaxPooling2D)  (None, 28, 28, 256)       0         \n",
      "                                                                 \n",
      " block4_conv1 (Conv2D)       (None, 28, 28, 512)       1180160   \n",
      "                                                                 \n",
      " block4_conv2 (Conv2D)       (None, 28, 28, 512)       2359808   \n",
      "                                                                 \n",
      " block4_conv3 (Conv2D)       (None, 28, 28, 512)       2359808   \n",
      "                                                                 \n",
      " block4_pool (MaxPooling2D)  (None, 14, 14, 512)       0         \n",
      "                                                                 \n",
      " block5_conv1 (Conv2D)       (None, 14, 14, 512)       2359808   \n",
      "                                                                 \n",
      " block5_conv2 (Conv2D)       (None, 14, 14, 512)       2359808   \n",
      "                                                                 \n",
      " block5_conv3 (Conv2D)       (None, 14, 14, 512)       2359808   \n",
      "                                                                 \n",
      " block5_pool (MaxPooling2D)  (None, 7, 7, 512)         0         \n",
      "                                                                 \n",
      " flatten (Flatten)           (None, 25088)             0         \n",
      "                                                                 \n",
      " fc1 (Dense)                 (None, 4096)              102764544 \n",
      "                                                                 \n",
      " fc2 (Dense)                 (None, 4096)              16781312  \n",
      "                                                                 \n",
      " predictions (Dense)         (None, 1000)              4097000   \n",
      "                                                                 \n",
      "=================================================================\n",
      "Total params: 138,357,544\n",
      "Trainable params: 138,357,544\n",
      "Non-trainable params: 0\n",
      "_________________________________________________________________\n",
      "None\n"
     ]
    }
   ],
   "source": [
    "from keras.applications.vgg16 import VGG16\n",
    "model = VGG16(weights='imagenet')\n",
    "print(model.summary())"
   ]
  }
 ],
 "metadata": {
  "colab": {
   "provenance": []
  },
  "kernelspec": {
   "display_name": "Python 3",
   "language": "python",
   "name": "python3"
  },
  "language_info": {
   "codemirror_mode": {
    "name": "ipython",
    "version": 3
   },
   "file_extension": ".py",
   "mimetype": "text/x-python",
   "name": "python",
   "nbconvert_exporter": "python",
   "pygments_lexer": "ipython3",
   "version": "3.8.8"
  }
 },
 "nbformat": 4,
 "nbformat_minor": 1
}
