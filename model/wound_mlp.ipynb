{
  "nbformat": 4,
  "nbformat_minor": 0,
  "metadata": {
    "colab": {
      "provenance": [],
      "authorship_tag": "ABX9TyPOiAXjS+wIHi6H20PfC77U",
      "include_colab_link": true
    },
    "kernelspec": {
      "name": "python3",
      "display_name": "Python 3"
    },
    "language_info": {
      "name": "python"
    }
  },
  "cells": [
    {
      "cell_type": "markdown",
      "metadata": {
        "id": "view-in-github",
        "colab_type": "text"
      },
      "source": [
        "<a href=\"https://colab.research.google.com/github/emicervantes/wound_classification/blob/main/wound_mlp.ipynb\" target=\"_parent\"><img src=\"https://colab.research.google.com/assets/colab-badge.svg\" alt=\"Open In Colab\"/></a>"
      ]
    },
    {
      "cell_type": "code",
      "execution_count": 1,
      "metadata": {
        "id": "LIgNSzzVkfE0"
      },
      "outputs": [],
      "source": [
        "import numpy as np\n",
        "import tensorflow as tf\n",
        "import torch\n",
        "import torch.nn as nn\n",
        "import torchvision\n",
        "import torchvision.transforms as transforms\n",
        "import torchvision.transforms.functional as TF\n",
        "from torch.utils.data import Dataset, DataLoader\n",
        "from sklearn.model_selection import train_test_split \n",
        "import matplotlib.pyplot as plt"
      ]
    },
    {
      "cell_type": "markdown",
      "source": [
        "### Load Wound Data"
      ],
      "metadata": {
        "id": "vWI4GCPMl7ZL"
      }
    },
    {
      "cell_type": "code",
      "source": [
        "X = np.load('wound_features.npy', encoding = 'bytes')\n",
        "Y = np.load('wound_label.npy', encoding = 'bytes')\n",
        "XTr, XTe, YTr, YTe = train_test_split(X,Y,test_size = 0.30)\n",
        "\n",
        "plt.imshow(XTr[3,:,:,0])"
      ],
      "metadata": {
        "colab": {
          "base_uri": "https://localhost:8080/",
          "height": 285
        },
        "id": "4oLFFw09l4OU",
        "outputId": "75af1e0f-c5a3-41bc-d4d1-20991932d86a"
      },
      "execution_count": 2,
      "outputs": [
        {
          "output_type": "execute_result",
          "data": {
            "text/plain": [
              "<matplotlib.image.AxesImage at 0x7fa77b596730>"
            ]
          },
          "metadata": {},
          "execution_count": 2
        },
        {
          "output_type": "display_data",
          "data": {
            "text/plain": [
              "<Figure size 432x288 with 1 Axes>"
            ],
            "image/png": "[encoded data removed]"
          },
          "metadata": {
            "needs_background": "light"
          }
        }
      ]
    },
    {
      "cell_type": "code",
      "source": [
        "batch_size = 100\n",
        "\n",
        "torch_XTr = torch.tensor(XTr)\n",
        "torch_YTr = torch.tensor(YTr)\n",
        "torch_XTe = torch.tensor(XTe)\n",
        "torch_YTe = torch.tensor(YTe)\n",
        "\n",
        "train = torch.utils.data.TensorDataset(torch_XTr, torch_YTr)\n",
        "train_loader = torch.utils.data.DataLoader(train, batch_size = batch_size, shuffle = True)\n",
        "\n",
        "test = torch.utils.data.TensorDataset(torch_XTe, torch_YTe)\n",
        "test_loader = torch.utils.data.DataLoader(test, batch_size = batch_size, shuffle = True)"
      ],
      "metadata": {
        "id": "CVcf88z8l-kT"
      },
      "execution_count": 3,
      "outputs": []
    },
    {
      "cell_type": "code",
      "source": [
        "X, Y = next(iter(train_loader))\n",
        "print(X.shape, Y.shape)"
      ],
      "metadata": {
        "colab": {
          "base_uri": "https://localhost:8080/"
        },
        "id": "QGvljjgRmA_x",
        "outputId": "e65f80ab-029d-473c-e57a-2cb5ff4e16bb"
      },
      "execution_count": 4,
      "outputs": [
        {
          "output_type": "stream",
          "name": "stdout",
          "text": [
            "torch.Size([100, 50, 50, 3]) torch.Size([100])\n"
          ]
        }
      ]
    },
    {
      "cell_type": "code",
      "source": [
        "num_epochs = 50\n",
        "num_classes = 6\n",
        "batch_size = 100\n",
        "learning_rate = 1e-5\n",
        "input_size = 7500\n",
        "hidden_size = 100"
      ],
      "metadata": {
        "id": "YUn_nQPYnaZ6"
      },
      "execution_count": 16,
      "outputs": []
    },
    {
      "cell_type": "code",
      "source": [
        "X = X.reshape(-1,3*50*50)"
      ],
      "metadata": {
        "id": "c8OJXFAPrOAi"
      },
      "execution_count": 11,
      "outputs": []
    },
    {
      "cell_type": "markdown",
      "source": [
        "### MLP"
      ],
      "metadata": {
        "id": "UAEe56_0mDXl"
      }
    },
    {
      "cell_type": "code",
      "source": [
        "class NeuralNet(nn.Module):\n",
        "  def __init__(self, input_size = 7500, hidden_size = 100, num_classes = 6):\n",
        "    super(NeuralNet, self).__init__()\n",
        "    self.fc1 = nn.Linear(input_size, hidden_size)\n",
        "    self.relu = nn.ReLU()\n",
        "\n",
        "    self.fc2 = nn.Linear(hidden_size, 200)\n",
        "    self.fc3 = nn.Linear(200, num_classes)\n",
        "\n",
        "  def forward(self, x):\n",
        "    out = self.fc1(x)\n",
        "    out = self.relu(out)\n",
        "    out = self.fc2(out)\n",
        "    out = self.relu(out)\n",
        "    out = self.fc3(out)\n",
        "    return out\n"
      ],
      "metadata": {
        "id": "E00fi6G6mNQq"
      },
      "execution_count": 28,
      "outputs": []
    },
    {
      "cell_type": "code",
      "source": [
        "X"
      ],
      "metadata": {
        "colab": {
          "base_uri": "https://localhost:8080/"
        },
        "id": "DVoXF8iIstXY",
        "outputId": "74c69e50-0200-48e8-d7d7-607fd52f7e38"
      },
      "execution_count": 27,
      "outputs": [
        {
          "output_type": "execute_result",
          "data": {
            "text/plain": [
              "tensor([[176, 199, 221,  ...,  15,  24,  28],\n",
              "        [189, 192, 253,  ..., 156, 184, 245],\n",
              "        [ 93, 113, 151,  ..., 119, 155, 200],\n",
              "        ...,\n",
              "        [121, 140, 207,  ..., 152, 170, 235],\n",
              "        [ 97, 124, 174,  ...,  25,  33,  46],\n",
              "        [141, 166, 247,  ..., 120, 170, 252]], dtype=torch.uint8)"
            ]
          },
          "metadata": {},
          "execution_count": 27
        }
      ]
    },
    {
      "cell_type": "code",
      "source": [
        "model = NeuralNet(input_size, hidden_size, num_classes)\n",
        "output = model(X.float())"
      ],
      "metadata": {
        "id": "piRHRp57n5XK"
      },
      "execution_count": 30,
      "outputs": []
    },
    {
      "cell_type": "code",
      "source": [
        "criterion = nn.CrossEntropyLoss()\n",
        "optimizer = torch.optim.SGD(model.parameters(), lr=learning_rate)"
      ],
      "metadata": {
        "id": "2dGNTyy_n5OD"
      },
      "execution_count": 31,
      "outputs": []
    },
    {
      "cell_type": "code",
      "source": [
        "\n",
        "# Train the model\n",
        "total_step = len(train_loader)\n",
        "#num_epochs = 5\n",
        "model.train()\n",
        "for epoch in range(num_epochs):    \n",
        "    for i, (X, Y) in enumerate(train_loader):\n",
        "\n",
        "        X = X.reshape(-1,3*50*50)\n",
        "        # Forward pass       \n",
        "        outputs = model(X.float())   \n",
        "\n",
        "        # Calculate Loss     \n",
        "        loss = criterion(outputs, Y)\n",
        "\n",
        "        # Backward and optimize   \n",
        "        optimizer.zero_grad()     \n",
        "        loss.backward()\n",
        "        optimizer.step()       \n",
        "\n",
        "        #store loss and iteration\n",
        "        \n",
        "        if (i+1) % 6 == 0:\n",
        "            #print('Iteration: {} Loss: {} '.format(count, loss.item()))\n",
        "            print ('Epoch [{}/{}], Step [{}/{}], Loss: {:.4f}' \n",
        "                  .format(epoch+1, num_epochs, (i+1), total_step, loss.item()))\n",
        "\n",
        "        #Total Iterations (if use the right # in count % # == 0) which equal \n",
        "        #total_step * epochs"
      ],
      "metadata": {
        "colab": {
          "base_uri": "https://localhost:8080/"
        },
        "id": "9vxYTQnaoDvO",
        "outputId": "a39370ce-e276-4200-dc88-494d0c016127"
      },
      "execution_count": 42,
      "outputs": [
        {
          "output_type": "stream",
          "name": "stdout",
          "text": [
            "Epoch [1/50], Step [6/6], Loss: 0.5164\n",
            "Epoch [2/50], Step [6/6], Loss: 0.2316\n",
            "Epoch [3/50], Step [6/6], Loss: 0.2638\n",
            "Epoch [4/50], Step [6/6], Loss: 0.4690\n",
            "Epoch [5/50], Step [6/6], Loss: 0.3500\n",
            "Epoch [6/50], Step [6/6], Loss: 0.3916\n",
            "Epoch [7/50], Step [6/6], Loss: 0.2839\n",
            "Epoch [8/50], Step [6/6], Loss: 0.5231\n",
            "Epoch [9/50], Step [6/6], Loss: 0.3342\n",
            "Epoch [10/50], Step [6/6], Loss: 0.3572\n",
            "Epoch [11/50], Step [6/6], Loss: 0.5562\n",
            "Epoch [12/50], Step [6/6], Loss: 0.1845\n",
            "Epoch [13/50], Step [6/6], Loss: 0.3015\n",
            "Epoch [14/50], Step [6/6], Loss: 0.4035\n",
            "Epoch [15/50], Step [6/6], Loss: 0.3014\n",
            "Epoch [16/50], Step [6/6], Loss: 0.3793\n",
            "Epoch [17/50], Step [6/6], Loss: 0.6705\n",
            "Epoch [18/50], Step [6/6], Loss: 0.4123\n",
            "Epoch [19/50], Step [6/6], Loss: 0.3952\n",
            "Epoch [20/50], Step [6/6], Loss: 0.3518\n",
            "Epoch [21/50], Step [6/6], Loss: 0.6607\n",
            "Epoch [22/50], Step [6/6], Loss: 0.3278\n",
            "Epoch [23/50], Step [6/6], Loss: 0.2836\n",
            "Epoch [24/50], Step [6/6], Loss: 0.2322\n",
            "Epoch [25/50], Step [6/6], Loss: 0.3720\n",
            "Epoch [26/50], Step [6/6], Loss: 0.4376\n",
            "Epoch [27/50], Step [6/6], Loss: 0.2583\n",
            "Epoch [28/50], Step [6/6], Loss: 0.2381\n",
            "Epoch [29/50], Step [6/6], Loss: 0.4095\n",
            "Epoch [30/50], Step [6/6], Loss: 0.2866\n",
            "Epoch [31/50], Step [6/6], Loss: 0.4131\n",
            "Epoch [32/50], Step [6/6], Loss: 0.6501\n",
            "Epoch [33/50], Step [6/6], Loss: 0.4264\n",
            "Epoch [34/50], Step [6/6], Loss: 0.3071\n",
            "Epoch [35/50], Step [6/6], Loss: 0.2698\n",
            "Epoch [36/50], Step [6/6], Loss: 0.2372\n",
            "Epoch [37/50], Step [6/6], Loss: 0.3405\n",
            "Epoch [38/50], Step [6/6], Loss: 0.2997\n",
            "Epoch [39/50], Step [6/6], Loss: 0.6372\n",
            "Epoch [40/50], Step [6/6], Loss: 0.1894\n",
            "Epoch [41/50], Step [6/6], Loss: 0.3691\n",
            "Epoch [42/50], Step [6/6], Loss: 0.5164\n",
            "Epoch [43/50], Step [6/6], Loss: 0.3617\n",
            "Epoch [44/50], Step [6/6], Loss: 0.3192\n",
            "Epoch [45/50], Step [6/6], Loss: 0.4516\n",
            "Epoch [46/50], Step [6/6], Loss: 0.2387\n",
            "Epoch [47/50], Step [6/6], Loss: 0.4728\n",
            "Epoch [48/50], Step [6/6], Loss: 0.3024\n",
            "Epoch [49/50], Step [6/6], Loss: 0.4181\n",
            "Epoch [50/50], Step [6/6], Loss: 0.5427\n"
          ]
        }
      ]
    },
    {
      "cell_type": "code",
      "source": [
        "#Test the model\n",
        "model.eval()\n",
        "testmod_acc = []\n",
        "with torch.no_grad():    \n",
        "    for X, Y in test_loader:\n",
        "        X = X.reshape(-1,3*50*50)\n",
        "        outputs = model(X.float())\n",
        "        _, predicted = torch.max(outputs.data, 1)\n",
        "        testmod_acc.append((predicted == Y).sum().item() / predicted.size(0))\n",
        "        \n",
        "\n",
        "    print('Test Accuracy of the model = {} %'.format(100*np.mean(testmod_acc)))\n"
      ],
      "metadata": {
        "colab": {
          "base_uri": "https://localhost:8080/"
        },
        "id": "LhyRCR8luUk1",
        "outputId": "16ed6278-6c3c-47bc-9484-2849c359db47"
      },
      "execution_count": 44,
      "outputs": [
        {
          "output_type": "stream",
          "name": "stdout",
          "text": [
            "Test Accuracy of the model = 48.15151515151515 %\n"
          ]
        }
      ]
    },
    {
      "cell_type": "markdown",
      "source": [
        "### LSTM"
      ],
      "metadata": {
        "id": "lSH4Ef9umEqK"
      }
    }
  ]
}
