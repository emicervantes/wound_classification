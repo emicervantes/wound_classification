{
  "cells": [
    {
      "cell_type": "markdown",
      "metadata": {
        "colab_type": "text",
        "id": "view-in-github"
      },
      "source": [
        "<a href=\"https://colab.research.google.com/github/emicervantes/wound_classification/blob/main/wound_cnn.ipynb\" target=\"_parent\"><img src=\"https://colab.research.google.com/assets/colab-badge.svg\" alt=\"Open In Colab\"/></a>"
      ]
    },
    {
      "cell_type": "code",
      "execution_count": 97,
      "metadata": {
        "id": "6YNfgV8uz5at"
      },
      "outputs": [],
      "source": [
        "import numpy as np\n",
        "import tensorflow as tf\n",
        "from tensorflow.keras.models import Sequential\n",
        "from tensorflow.keras.layers import Dense, Dropout, Activation, Flatten, Conv2D, MaxPooling2D\n",
        "import matplotlib.pyplot as plt\n",
        "from sklearn.model_selection import train_test_split\n",
        "import torch\n",
        "import torch.nn as nn\n",
        "import torchvision\n",
        "import torchvision.transforms as transforms\n",
        "from torch.utils.data import Dataset, DataLoader"
      ]
    },
    {
      "cell_type": "markdown",
      "metadata": {
        "id": "SRPYc3Nb1lAG"
      },
      "source": [
        "#### Load wound data"
      ]
    },
    {
      "cell_type": "code",
      "execution_count": 98,
      "metadata": {
        "id": "B2sawV_r04ek"
      },
      "outputs": [],
      "source": [
        "X = np.load('wound_features.npy', encoding = 'bytes')\n",
        "Y = np.load('wound_label.npy', encoding = 'bytes')"
      ]
    },
    {
      "cell_type": "code",
      "execution_count": 99,
      "metadata": {
        "id": "CMkyQDTLEMYR"
      },
      "outputs": [
        {
          "name": "stdout",
          "output_type": "stream",
          "text": [
            "(516, 50, 50, 3) (516,)\n"
          ]
        }
      ],
      "source": [
        "x_train, x_test, y_train, y_test = train_test_split(X, Y, test_size = 0.30)\n",
        "print(x_train.shape, y_train.shape)"
      ]
    },
    {
      "cell_type": "code",
      "execution_count": 100,
      "metadata": {
        "colab": {
          "base_uri": "https://localhost:8080/",
          "height": 284
        },
        "id": "Sb202ZBs5EcZ",
        "outputId": "4d72327f-2d50-4feb-be55-2d8ca251b9ae"
      },
      "outputs": [
        {
          "data": {
            "text/plain": [
              "<matplotlib.image.AxesImage at 0x1cd3bf63ee0>"
            ]
          },
          "execution_count": 100,
          "metadata": {},
          "output_type": "execute_result"
        },
        {
          "data": {
            "image/png": "[encoded data removed]",
            "text/plain": [
              "<Figure size 432x288 with 1 Axes>"
            ]
          },
          "metadata": {
            "needs_background": "light"
          },
          "output_type": "display_data"
        }
      ],
      "source": [
        "plt.imshow(x_train[3,:,:,0])"
      ]
    },
    {
      "cell_type": "code",
      "execution_count": 101,
      "metadata": {
        "colab": {
          "base_uri": "https://localhost:8080/"
        },
        "id": "c_A6BXtN7CJ2",
        "outputId": "22ad459b-7165-4c60-d8cf-9867d501e46f"
      },
      "outputs": [
        {
          "data": {
            "text/plain": [
              "6"
            ]
          },
          "execution_count": 101,
          "metadata": {},
          "output_type": "execute_result"
        }
      ],
      "source": [
        "len(np.unique(Y))"
      ]
    },
    {
      "cell_type": "markdown",
      "metadata": {
        "id": "z4KLQ8S16cMK"
      },
      "source": [
        "### CNN Using Torch"
      ]
    },
    {
      "cell_type": "code",
      "execution_count": 102,
      "metadata": {
        "colab": {
          "base_uri": "https://localhost:8080/"
        },
        "id": "D9cJHpcm6hEU",
        "outputId": "01f8098b-d1d1-46fc-ec5c-b3052f94d68d"
      },
      "outputs": [
        {
          "name": "stdout",
          "output_type": "stream",
          "text": [
            "cpu\n"
          ]
        }
      ],
      "source": [
        "# Check GPU avialbility\n",
        "device = torch.device('cuda:0' if torch.cuda.is_available() else 'cpu')\n",
        "print(device)"
      ]
    },
    {
      "cell_type": "code",
      "execution_count": 103,
      "metadata": {},
      "outputs": [],
      "source": [
        "# Hyper parameters\n",
        "num_epochs = 50\n",
        "num_classes = 6\n",
        "batch_size = 100\n",
        "learning_rate = 1e-5"
      ]
    },
    {
      "cell_type": "code",
      "execution_count": 104,
      "metadata": {
        "id": "dC4RBNlN8cog"
      },
      "outputs": [],
      "source": [
        "torch_XTr = torch.tensor(x_train)\n",
        "torch_YTr = torch.tensor(y_train)\n",
        "torch_XTe = torch.tensor(x_test)\n",
        "torch_YTe = torch.tensor(y_test)\n",
        "\n",
        "train = torch.utils.data.TensorDataset(torch_XTr, torch_YTr)\n",
        "train_loader = torch.utils.data.DataLoader(train, batch_size= batch_size, shuffle = True)\n",
        "\n",
        "test = torch.utils.data.TensorDataset(torch_XTe, torch_YTe)\n",
        "test_loader = torch.utils.data.DataLoader(test, batch_size= batch_size, shuffle = False)\n",
        "\n"
      ]
    },
    {
      "cell_type": "code",
      "execution_count": 105,
      "metadata": {
        "colab": {
          "base_uri": "https://localhost:8080/"
        },
        "id": "7ewEQsin9w2G",
        "outputId": "c6273a44-e345-4b62-f804-f7968f82336b"
      },
      "outputs": [
        {
          "name": "stdout",
          "output_type": "stream",
          "text": [
            "torch.Size([100, 50, 50, 3]) torch.Size([100])\n"
          ]
        }
      ],
      "source": [
        "Xfe, Yla = next(iter(train_loader))\n",
        "print(Xfe.shape, Yla.shape)\n"
      ]
    },
    {
      "cell_type": "code",
      "execution_count": 106,
      "metadata": {
        "colab": {
          "base_uri": "https://localhost:8080/"
        },
        "id": "wT72ISoK826s",
        "outputId": "cd830650-72cd-426f-874c-98b0dca11052"
      },
      "outputs": [],
      "source": [
        "#Xfe = torch.swapaxes(Xfe, 1,3)\n",
        "#Xfe.shape"
      ]
    },
    {
      "cell_type": "code",
      "execution_count": 107,
      "metadata": {
        "colab": {
          "base_uri": "https://localhost:8080/",
          "height": 284
        },
        "id": "GxIE-8GA-D4s",
        "outputId": "b10d1d1f-8879-4a68-e5af-a713f53c5895"
      },
      "outputs": [],
      "source": [
        "#plt.imshow(Xfe[100,0,:,:])"
      ]
    },
    {
      "cell_type": "code",
      "execution_count": 108,
      "metadata": {
        "id": "_-x6x9Th67q_"
      },
      "outputs": [
        {
          "name": "stdout",
          "output_type": "stream",
          "text": [
            "(738, 50, 50, 3)\n"
          ]
        }
      ],
      "source": [
        "# CNN\n",
        "print(X.shape) #Check original shape of X\n",
        "class ConvNet(nn.Module):\n",
        "  def __init__(self, num_classes = 6):\n",
        "    super(ConvNet, self).__init__()\n",
        "    self.layer1 = nn.Sequential(\n",
        "        nn.Conv2d(3, 64, kernel_size = 4, stride = 1, padding = 2),\n",
        "        nn.BatchNorm2d(64),        \n",
        "        nn.Tanh(),\n",
        "        nn.MaxPool2d(kernel_size = 2, stride = 2)\n",
        "    )\n",
        "    self.layer2 = nn.Sequential(\n",
        "        nn.Conv2d(64, 128, kernel_size = 4, stride = 1, padding = 2),\n",
        "        nn.BatchNorm2d(128),\n",
        "        nn.ReLU(),\n",
        "        nn.MaxPool2d(kernel_size = 2, stride = 2)  \n",
        "    )\n",
        "    self.fc = nn.Linear(21632, num_classes)\n",
        "\n",
        "  def forward(self, Xfe):\n",
        "    Xfe = torch.swapaxes(Xfe, 1,3)\n",
        "    out = self.layer1(Xfe.float())    \n",
        "    out = self.layer2(out)   \n",
        "    out = out.reshape(out.size(0), -1)    \n",
        "    out = self.fc(out)\n",
        "    return out"
      ]
    },
    {
      "cell_type": "code",
      "execution_count": 109,
      "metadata": {
        "colab": {
          "base_uri": "https://localhost:8080/"
        },
        "id": "Ul1rYCBt8HBq",
        "outputId": "c03b1559-7b8c-42ba-8187-4fc3cc7d2dfd"
      },
      "outputs": [
        {
          "name": "stdout",
          "output_type": "stream",
          "text": [
            "torch.Size([100, 6])\n"
          ]
        }
      ],
      "source": [
        "model = ConvNet(num_classes).to(device)\n",
        "output = model(Xfe)\n",
        "print(output.shape)"
      ]
    },
    {
      "cell_type": "code",
      "execution_count": 110,
      "metadata": {
        "id": "W2lyDq5u_YXZ"
      },
      "outputs": [
        {
          "name": "stdout",
          "output_type": "stream",
          "text": [
            "ConvNet(\n",
            "  (layer1): Sequential(\n",
            "    (0): Conv2d(3, 64, kernel_size=(4, 4), stride=(1, 1), padding=(2, 2))\n",
            "    (1): BatchNorm2d(64, eps=1e-05, momentum=0.1, affine=True, track_running_stats=True)\n",
            "    (2): Tanh()\n",
            "    (3): MaxPool2d(kernel_size=2, stride=2, padding=0, dilation=1, ceil_mode=False)\n",
            "  )\n",
            "  (layer2): Sequential(\n",
            "    (0): Conv2d(64, 128, kernel_size=(4, 4), stride=(1, 1), padding=(2, 2))\n",
            "    (1): BatchNorm2d(128, eps=1e-05, momentum=0.1, affine=True, track_running_stats=True)\n",
            "    (2): ReLU()\n",
            "    (3): MaxPool2d(kernel_size=2, stride=2, padding=0, dilation=1, ceil_mode=False)\n",
            "  )\n",
            "  (fc): Linear(in_features=21632, out_features=6, bias=True)\n",
            ")\n",
            "tensor(1.9329, grad_fn=<NllLossBackward0>)\n"
          ]
        }
      ],
      "source": [
        "criterion = nn.CrossEntropyLoss()\n",
        "optimizer = torch.optim.Adam(model.parameters(), lr = learning_rate)\n",
        "print(model)\n",
        "#test run to check loss\n",
        "loss = criterion(output,Yla)\n",
        "print(loss)"
      ]
    },
    {
      "cell_type": "markdown",
      "metadata": {
        "id": "myliDY_E6gnj"
      },
      "source": []
    },
    {
      "cell_type": "code",
      "execution_count": 111,
      "metadata": {},
      "outputs": [
        {
          "name": "stdout",
          "output_type": "stream",
          "text": [
            "Epoch [1/50], Step [6/6], Loss: 1.8500\n",
            "Epoch [2/50], Step [6/6], Loss: 1.8071\n",
            "Epoch [3/50], Step [6/6], Loss: 1.6813\n",
            "Epoch [4/50], Step [6/6], Loss: 1.4732\n",
            "Epoch [5/50], Step [6/6], Loss: 1.4140\n",
            "Epoch [6/50], Step [6/6], Loss: 1.4536\n",
            "Epoch [7/50], Step [6/6], Loss: 1.2313\n",
            "Epoch [8/50], Step [6/6], Loss: 1.2195\n",
            "Epoch [9/50], Step [6/6], Loss: 1.2740\n",
            "Epoch [10/50], Step [6/6], Loss: 1.3454\n",
            "Epoch [11/50], Step [6/6], Loss: 1.2146\n",
            "Epoch [12/50], Step [6/6], Loss: 1.0937\n",
            "Epoch [13/50], Step [6/6], Loss: 1.2832\n",
            "Epoch [14/50], Step [6/6], Loss: 1.2338\n",
            "Epoch [15/50], Step [6/6], Loss: 0.9846\n",
            "Epoch [16/50], Step [6/6], Loss: 0.8782\n",
            "Epoch [17/50], Step [6/6], Loss: 1.1433\n",
            "Epoch [18/50], Step [6/6], Loss: 1.2900\n",
            "Epoch [19/50], Step [6/6], Loss: 0.7881\n",
            "Epoch [20/50], Step [6/6], Loss: 1.1038\n",
            "Epoch [21/50], Step [6/6], Loss: 0.9929\n",
            "Epoch [22/50], Step [6/6], Loss: 1.3306\n",
            "Epoch [23/50], Step [6/6], Loss: 0.8635\n",
            "Epoch [24/50], Step [6/6], Loss: 0.6808\n",
            "Epoch [25/50], Step [6/6], Loss: 0.9646\n",
            "Epoch [26/50], Step [6/6], Loss: 0.8102\n",
            "Epoch [27/50], Step [6/6], Loss: 0.7166\n",
            "Epoch [28/50], Step [6/6], Loss: 0.8569\n",
            "Epoch [29/50], Step [6/6], Loss: 0.9815\n",
            "Epoch [30/50], Step [6/6], Loss: 1.2281\n",
            "Epoch [31/50], Step [6/6], Loss: 0.7765\n",
            "Epoch [32/50], Step [6/6], Loss: 0.7729\n",
            "Epoch [33/50], Step [6/6], Loss: 0.5227\n",
            "Epoch [34/50], Step [6/6], Loss: 0.8141\n",
            "Epoch [35/50], Step [6/6], Loss: 0.7036\n",
            "Epoch [36/50], Step [6/6], Loss: 0.7485\n",
            "Epoch [37/50], Step [6/6], Loss: 0.4854\n",
            "Epoch [38/50], Step [6/6], Loss: 0.9338\n",
            "Epoch [39/50], Step [6/6], Loss: 0.5878\n",
            "Epoch [40/50], Step [6/6], Loss: 1.0717\n",
            "Epoch [41/50], Step [6/6], Loss: 0.6269\n",
            "Epoch [42/50], Step [6/6], Loss: 0.6402\n",
            "Epoch [43/50], Step [6/6], Loss: 0.6627\n",
            "Epoch [44/50], Step [6/6], Loss: 1.0362\n",
            "Epoch [45/50], Step [6/6], Loss: 0.6420\n",
            "Epoch [46/50], Step [6/6], Loss: 0.7526\n",
            "Epoch [47/50], Step [6/6], Loss: 0.7937\n",
            "Epoch [48/50], Step [6/6], Loss: 0.7752\n",
            "Epoch [49/50], Step [6/6], Loss: 0.7042\n",
            "Epoch [50/50], Step [6/6], Loss: 0.5751\n"
          ]
        }
      ],
      "source": [
        "# Train the model\n",
        "total_step = len(train_loader)\n",
        "#num_epochs = 5\n",
        "model.train()\n",
        "for epoch in range(num_epochs):    \n",
        "    for i, (Xfe, Yla) in enumerate(train_loader):\n",
        "        Xfe = Xfe.to(device)\n",
        "        Yla = Yla.to(device)\n",
        "\n",
        "        # Forward pass       \n",
        "        outputs = model(Xfe)   \n",
        "\n",
        "        # Calculate Loss     \n",
        "        loss = criterion(outputs, Yla)\n",
        "\n",
        "        # Backward and optimize   \n",
        "        optimizer.zero_grad()     \n",
        "        loss.backward()\n",
        "        optimizer.step()       \n",
        "\n",
        "        #store loss and iteration\n",
        "        \n",
        "        if (i+1) % 6 == 0:\n",
        "            #print('Iteration: {} Loss: {} '.format(count, loss.item()))\n",
        "            print ('Epoch [{}/{}], Step [{}/{}], Loss: {:.4f}' \n",
        "                  .format(epoch+1, num_epochs, (i+1), total_step, loss.item()))\n",
        "\n",
        "        #Total Iterations (if use the right # in count % # == 0) which equal \n",
        "        #total_step * epochs"
      ]
    },
    {
      "cell_type": "code",
      "execution_count": 112,
      "metadata": {},
      "outputs": [
        {
          "name": "stdout",
          "output_type": "stream",
          "text": [
            "Test Accuracy of the model = 62.212121212121204 %\n"
          ]
        }
      ],
      "source": [
        "#Test the model\n",
        "model.eval()\n",
        "testmod_acc = []\n",
        "with torch.no_grad():    \n",
        "    for Xfe, Yla in test_loader:\n",
        "        Xfe = Xfe.to(device)\n",
        "        Yla = Yla.to(device)\n",
        "        outputs = model(Xfe)\n",
        "        _, predicted = torch.max(outputs.data, 1)\n",
        "        testmod_acc.append((predicted == Yla).sum().item() / predicted.size(0))\n",
        "        \n",
        "\n",
        "    print('Test Accuracy of the model = {} %'.format(100*np.mean(testmod_acc)))"
      ]
    }
  ],
  "metadata": {
    "colab": {
      "authorship_tag": "ABX9TyPrL43xEXPmKjlKJZG9o+K/",
      "include_colab_link": true,
      "provenance": []
    },
    "kernelspec": {
      "display_name": "Python 3.9.6 64-bit",
      "language": "python",
      "name": "python3"
    },
    "language_info": {
      "codemirror_mode": {
        "name": "ipython",
        "version": 3
      },
      "file_extension": ".py",
      "mimetype": "text/x-python",
      "name": "python",
      "nbconvert_exporter": "python",
      "pygments_lexer": "ipython3",
      "version": "3.9.6"
    },
    "vscode": {
      "interpreter": {
        "hash": "7c5c439e7b1e99f14538136ae870b2eb956937623f6c759e45612f48e4cb3a4a"
      }
    }
  },
  "nbformat": 4,
  "nbformat_minor": 0
}
