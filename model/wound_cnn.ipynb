{
  "nbformat": 4,
  "nbformat_minor": 0,
  "metadata": {
    "colab": {
      "provenance": [],
      "authorship_tag": "ABX9TyPrL43xEXPmKjlKJZG9o+K/",
      "include_colab_link": true
    },
    "kernelspec": {
      "name": "python3",
      "display_name": "Python 3"
    },
    "language_info": {
      "name": "python"
    }
  },
  "cells": [
    {
      "cell_type": "markdown",
      "metadata": {
        "id": "view-in-github",
        "colab_type": "text"
      },
      "source": [
        "<a href=\"https://colab.research.google.com/github/emicervantes/wound_classification/blob/main/wound_cnn.ipynb\" target=\"_parent\"><img src=\"https://colab.research.google.com/assets/colab-badge.svg\" alt=\"Open In Colab\"/></a>"
      ]
    },
    {
      "cell_type": "code",
      "execution_count": 157,
      "metadata": {
        "id": "6YNfgV8uz5at"
      },
      "outputs": [],
      "source": [
        "import numpy as np\n",
        "import tensorflow as tf\n",
        "from tensorflow.keras.models import Sequential\n",
        "from tensorflow.keras.layers import Dense, Dropout, Activation, Flatten, Conv2D, MaxPooling2D\n",
        "import matplotlib.pyplot as plt\n",
        "from sklearn.model_selection import train_test_split\n",
        "import torch\n",
        "import torch.nn as nn\n",
        "import torchvision\n",
        "import torchvision.transforms as transforms\n",
        "from torch.utils.data import Dataset, DataLoader"
      ]
    },
    {
      "cell_type": "markdown",
      "source": [
        "#### Load wound data"
      ],
      "metadata": {
        "id": "SRPYc3Nb1lAG"
      }
    },
    {
      "cell_type": "code",
      "source": [
        "X = np.load('wound_features.npy', encoding = 'bytes')\n",
        "Y = np.load('wound_label.npy', encoding = 'bytes')"
      ],
      "metadata": {
        "id": "B2sawV_r04ek"
      },
      "execution_count": 23,
      "outputs": []
    },
    {
      "cell_type": "code",
      "source": [
        "x_train, x_test, y_train, y_test = train_test_split(X, Y, test_size = 0.30)"
      ],
      "metadata": {
        "id": "CMkyQDTLEMYR"
      },
      "execution_count": 158,
      "outputs": []
    },
    {
      "cell_type": "code",
      "source": [
        "plt.imshow(x_train[3,:,:,0])"
      ],
      "metadata": {
        "colab": {
          "base_uri": "https://localhost:8080/",
          "height": 284
        },
        "id": "Sb202ZBs5EcZ",
        "outputId": "4d72327f-2d50-4feb-be55-2d8ca251b9ae"
      },
      "execution_count": 159,
      "outputs": [
        {
          "output_type": "execute_result",
          "data": {
            "text/plain": [
              "<matplotlib.image.AxesImage at 0x7f65dfa77890>"
            ]
          },
          "metadata": {},
          "execution_count": 159
        },
        {
          "output_type": "display_data",
          "data": {
            "text/plain": [
              "<Figure size 432x288 with 1 Axes>"
            ],
            "image/png": "[encoded data removed]"
          },
          "metadata": {
            "needs_background": "light"
          }
        }
      ]
    },
    {
      "cell_type": "code",
      "source": [
        "len(np.unique(Y))"
      ],
      "metadata": {
        "colab": {
          "base_uri": "https://localhost:8080/"
        },
        "id": "c_A6BXtN7CJ2",
        "outputId": "22ad459b-7165-4c60-d8cf-9867d501e46f"
      },
      "execution_count": 160,
      "outputs": [
        {
          "output_type": "execute_result",
          "data": {
            "text/plain": [
              "6"
            ]
          },
          "metadata": {},
          "execution_count": 160
        }
      ]
    },
    {
      "cell_type": "markdown",
      "source": [
        "#### CNN Using Keras"
      ],
      "metadata": {
        "id": "tuVDScGH4xeg"
      }
    },
    {
      "cell_type": "code",
      "source": [
        "model = Sequential()\n",
        "model.add(Conv2D(64, (3,3), input_shape = X.shape[1:]))\n",
        "model.add(Activation(\"relu\"))\n",
        "model.add(MaxPooling2D(pool_size = (2,2)))\n",
        "\n",
        "model.add(Conv2D(64, (3,3)))\n",
        "model.add(Activation(\"relu\"))\n",
        "model.add(MaxPooling2D(pool_size = (2,2)))\n",
        "\n",
        "model.add(Flatten())\n",
        "model.add(Dense(64))\n",
        "\n",
        "model.add(Dense(1))\n",
        "model.add(Activation('sigmoid'))\n",
        "\n",
        "model.compile(loss = \"categorical_crossentropy\", optimizer = \"adam\", metrics = ['accuracy'])\n",
        "\n",
        "model.fit(X, Y, batch_size = 32, epochs = 10, validation_split = 0.1)"
      ],
      "metadata": {
        "colab": {
          "base_uri": "https://localhost:8080/"
        },
        "id": "OVNNN0hS1BbD",
        "outputId": "d68fc704-3f77-4f68-d4ef-0a6346b0f70e"
      },
      "execution_count": 25,
      "outputs": [
        {
          "output_type": "stream",
          "name": "stdout",
          "text": [
            "Epoch 1/10\n",
            "21/21 [==============================] - 5s 201ms/step - loss: 0.0000e+00 - accuracy: 0.2063 - val_loss: 0.0000e+00 - val_accuracy: 0.2297\n",
            "Epoch 2/10\n",
            "21/21 [==============================] - 4s 196ms/step - loss: 0.0000e+00 - accuracy: 0.2063 - val_loss: 0.0000e+00 - val_accuracy: 0.2297\n",
            "Epoch 3/10\n",
            "21/21 [==============================] - 4s 186ms/step - loss: 0.0000e+00 - accuracy: 0.2063 - val_loss: 0.0000e+00 - val_accuracy: 0.2297\n",
            "Epoch 4/10\n",
            "21/21 [==============================] - 4s 191ms/step - loss: 0.0000e+00 - accuracy: 0.2063 - val_loss: 0.0000e+00 - val_accuracy: 0.2297\n",
            "Epoch 5/10\n",
            "21/21 [==============================] - 4s 201ms/step - loss: 0.0000e+00 - accuracy: 0.2063 - val_loss: 0.0000e+00 - val_accuracy: 0.2297\n",
            "Epoch 6/10\n",
            "21/21 [==============================] - 4s 187ms/step - loss: 0.0000e+00 - accuracy: 0.2063 - val_loss: 0.0000e+00 - val_accuracy: 0.2297\n",
            "Epoch 7/10\n",
            "21/21 [==============================] - 4s 188ms/step - loss: 0.0000e+00 - accuracy: 0.2063 - val_loss: 0.0000e+00 - val_accuracy: 0.2297\n",
            "Epoch 8/10\n",
            "21/21 [==============================] - 4s 194ms/step - loss: 0.0000e+00 - accuracy: 0.2063 - val_loss: 0.0000e+00 - val_accuracy: 0.2297\n",
            "Epoch 9/10\n",
            "21/21 [==============================] - 4s 201ms/step - loss: 0.0000e+00 - accuracy: 0.2063 - val_loss: 0.0000e+00 - val_accuracy: 0.2297\n",
            "Epoch 10/10\n",
            "21/21 [==============================] - 4s 189ms/step - loss: 0.0000e+00 - accuracy: 0.2063 - val_loss: 0.0000e+00 - val_accuracy: 0.2297\n"
          ]
        },
        {
          "output_type": "execute_result",
          "data": {
            "text/plain": [
              "<keras.callbacks.History at 0x7f665ed32e10>"
            ]
          },
          "metadata": {},
          "execution_count": 25
        }
      ]
    },
    {
      "cell_type": "markdown",
      "source": [
        "### CNN Using Torch"
      ],
      "metadata": {
        "id": "z4KLQ8S16cMK"
      }
    },
    {
      "cell_type": "code",
      "source": [
        "# Check GPU avialbility\n",
        "device = torch.device('cuda:0' if torch.cuda.is_available() else 'cpu')\n",
        "print(device)"
      ],
      "metadata": {
        "colab": {
          "base_uri": "https://localhost:8080/"
        },
        "id": "D9cJHpcm6hEU",
        "outputId": "01f8098b-d1d1-46fc-ec5c-b3052f94d68d"
      },
      "execution_count": 80,
      "outputs": [
        {
          "output_type": "stream",
          "name": "stdout",
          "text": [
            "cpu\n"
          ]
        }
      ]
    },
    {
      "cell_type": "code",
      "source": [
        "torch_XTr = torch.tensor(x_train)\n",
        "torch_YTr = torch.tensor(y_train)\n",
        "torch_XTe = torch.tensor(x_test)\n",
        "torch_YTe = torch.tensor(y_test)"
      ],
      "metadata": {
        "id": "dC4RBNlN8cog"
      },
      "execution_count": 161,
      "outputs": []
    },
    {
      "cell_type": "code",
      "source": [
        "torch_XTr.shape"
      ],
      "metadata": {
        "colab": {
          "base_uri": "https://localhost:8080/"
        },
        "id": "7ewEQsin9w2G",
        "outputId": "c6273a44-e345-4b62-f804-f7968f82336b"
      },
      "execution_count": 163,
      "outputs": [
        {
          "output_type": "execute_result",
          "data": {
            "text/plain": [
              "torch.Size([516, 50, 50, 3])"
            ]
          },
          "metadata": {},
          "execution_count": 163
        }
      ]
    },
    {
      "cell_type": "code",
      "source": [
        "torch_XTr = torch.swapaxes(torch_XTr, 1,3)\n",
        "torch_XTr.shape"
      ],
      "metadata": {
        "colab": {
          "base_uri": "https://localhost:8080/"
        },
        "id": "wT72ISoK826s",
        "outputId": "cd830650-72cd-426f-874c-98b0dca11052"
      },
      "execution_count": 167,
      "outputs": [
        {
          "output_type": "execute_result",
          "data": {
            "text/plain": [
              "torch.Size([516, 3, 50, 50])"
            ]
          },
          "metadata": {},
          "execution_count": 167
        }
      ]
    },
    {
      "cell_type": "code",
      "source": [
        "plt.imshow(torch_XTr[100,0,:,:])"
      ],
      "metadata": {
        "colab": {
          "base_uri": "https://localhost:8080/",
          "height": 284
        },
        "id": "GxIE-8GA-D4s",
        "outputId": "b10d1d1f-8879-4a68-e5af-a713f53c5895"
      },
      "execution_count": 171,
      "outputs": [
        {
          "output_type": "execute_result",
          "data": {
            "text/plain": [
              "<matplotlib.image.AxesImage at 0x7f65df87db10>"
            ]
          },
          "metadata": {},
          "execution_count": 171
        },
        {
          "output_type": "display_data",
          "data": {
            "text/plain": [
              "<Figure size 432x288 with 1 Axes>"
            ],
            "image/png": "[encoded data removed]"
          },
          "metadata": {
            "needs_background": "light"
          }
        }
      ]
    },
    {
      "cell_type": "code",
      "source": [
        "# Hyper parameters\n",
        "num_epochs = 5\n",
        "num_classes = 6\n",
        "batch_size = 100\n",
        "learning_rate = 0.001"
      ],
      "metadata": {
        "id": "FZfmLxcX8M4d"
      },
      "execution_count": 172,
      "outputs": []
    },
    {
      "cell_type": "code",
      "source": [
        "# CNN\n",
        "class ConvNet(nn.Module):\n",
        "  def __init__(self, num_classes = 6):\n",
        "    super(ConvNet, self).__init__()\n",
        "    self.layer1 = nn.Sequential(\n",
        "        nn.Conv2d(3, 16, kernel_size = 5, stride = 1, padding = 2),\n",
        "        nn.ReLU(),\n",
        "        nn.MaxPool2d(kernel_size = 2, stride = 2)\n",
        "    )\n",
        "    self.layer2 = nn.Sequential(\n",
        "        nn.Conv2d(16, 32, kernel_size = 5, stride = 1, padding = 2),\n",
        "        nn.ReLU(),\n",
        "        nn.MaxPool2d(kernel_size = 2, stride = 2)  \n",
        "    )\n",
        "    self.fc = nn.Linear(4608, num_classes)\n",
        "\n",
        "  def forward(self, x):\n",
        "    out = self.layer1(x.float())\n",
        "    print(out.shape)\n",
        "    out = self.layer2(out)\n",
        "    print(out.shape)\n",
        "    out = out.reshape(out.size(0), -1)\n",
        "    out = self.fc(out)\n",
        "    return out"
      ],
      "metadata": {
        "id": "_-x6x9Th67q_"
      },
      "execution_count": 134,
      "outputs": []
    },
    {
      "cell_type": "code",
      "source": [
        "model = ConvNet(num_classes)\n",
        "output = model(torch_XTr)"
      ],
      "metadata": {
        "colab": {
          "base_uri": "https://localhost:8080/"
        },
        "id": "Ul1rYCBt8HBq",
        "outputId": "c03b1559-7b8c-42ba-8187-4fc3cc7d2dfd"
      },
      "execution_count": 173,
      "outputs": [
        {
          "output_type": "stream",
          "name": "stdout",
          "text": [
            "torch.Size([516, 16, 25, 25])\n",
            "torch.Size([516, 32, 12, 12])\n"
          ]
        }
      ]
    },
    {
      "cell_type": "code",
      "source": [
        "criterion = nn.CrossEntropyLoss()\n",
        "optimizer = torch.optim.Adam(model.parameters(), lr = learning_rate)"
      ],
      "metadata": {
        "id": "W2lyDq5u_YXZ"
      },
      "execution_count": 140,
      "outputs": []
    },
    {
      "cell_type": "markdown",
      "source": [],
      "metadata": {
        "id": "myliDY_E6gnj"
      }
    }
  ]
}
