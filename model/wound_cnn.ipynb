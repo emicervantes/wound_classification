{
  "cells": [
    {
      "cell_type": "markdown",
      "metadata": {
        "id": "view-in-github",
        "colab_type": "text"
      },
      "source": [
        "<a href=\"https://colab.research.google.com/github/emicervantes/wound_classification/blob/main/wound_cnn.ipynb\" target=\"_parent\"><img src=\"https://colab.research.google.com/assets/colab-badge.svg\" alt=\"Open In Colab\"/></a>"
      ]
    },
    {
      "cell_type": "code",
      "execution_count": 1,
      "metadata": {
        "id": "6YNfgV8uz5at"
      },
      "outputs": [],
      "source": [
        "import numpy as np\n",
        "import tensorflow as tf\n",
        "from tensorflow.keras.models import Sequential\n",
        "from tensorflow.keras.layers import Dense, Dropout, Activation, Flatten, Conv2D, MaxPooling2D\n",
        "import matplotlib.pyplot as plt\n",
        "from sklearn.model_selection import train_test_split\n",
        "import torch\n",
        "import torch.nn as nn\n",
        "import torchvision\n",
        "import torchvision.transforms as transforms\n",
        "from torch.utils.data import Dataset, DataLoader"
      ]
    },
    {
      "cell_type": "markdown",
      "metadata": {
        "id": "SRPYc3Nb1lAG"
      },
      "source": [
        "#### Load wound data"
      ]
    },
    {
      "cell_type": "code",
      "execution_count": 3,
      "metadata": {
        "id": "B2sawV_r04ek"
      },
      "outputs": [],
      "source": [
        "X = np.load('wound_features.npy', encoding = 'bytes')\n",
        "Y = np.load('wound_label.npy', encoding = 'bytes')"
      ]
    },
    {
      "cell_type": "code",
      "execution_count": 4,
      "metadata": {
        "id": "CMkyQDTLEMYR",
        "colab": {
          "base_uri": "https://localhost:8080/"
        },
        "outputId": "5ec2972a-13bf-4a18-ff4e-5cc7707a6c82"
      },
      "outputs": [
        {
          "output_type": "stream",
          "name": "stdout",
          "text": [
            "(516, 50, 50, 3) (516,)\n"
          ]
        }
      ],
      "source": [
        "x_train, x_test, y_train, y_test = train_test_split(X, Y, test_size = 0.30)\n",
        "print(x_train.shape, y_train.shape)"
      ]
    },
    {
      "cell_type": "code",
      "execution_count": 5,
      "metadata": {
        "colab": {
          "base_uri": "https://localhost:8080/",
          "height": 285
        },
        "id": "Sb202ZBs5EcZ",
        "outputId": "4ed27da5-1439-4c70-acdf-731c19375b38"
      },
      "outputs": [
        {
          "output_type": "execute_result",
          "data": {
            "text/plain": [
              "<matplotlib.image.AxesImage at 0x7f908b59b210>"
            ]
          },
          "metadata": {},
          "execution_count": 5
        },
        {
          "output_type": "display_data",
          "data": {
            "text/plain": [
              "<Figure size 432x288 with 1 Axes>"
            ],
            "image/png": "[encoded data removed]"
          },
          "metadata": {
            "needs_background": "light"
          }
        }
      ],
      "source": [
        "plt.imshow(x_train[3,:,:,0])"
      ]
    },
    {
      "cell_type": "code",
      "execution_count": 6,
      "metadata": {
        "colab": {
          "base_uri": "https://localhost:8080/"
        },
        "id": "c_A6BXtN7CJ2",
        "outputId": "d4262236-2010-40f7-f55a-e7a6c42b0861"
      },
      "outputs": [
        {
          "output_type": "execute_result",
          "data": {
            "text/plain": [
              "6"
            ]
          },
          "metadata": {},
          "execution_count": 6
        }
      ],
      "source": [
        "len(np.unique(Y))"
      ]
    },
    {
      "cell_type": "markdown",
      "metadata": {
        "id": "tuVDScGH4xeg"
      },
      "source": [
        "#### CNN Using Keras"
      ]
    },
    {
      "cell_type": "code",
      "execution_count": 7,
      "metadata": {
        "colab": {
          "base_uri": "https://localhost:8080/"
        },
        "id": "OVNNN0hS1BbD",
        "outputId": "08cc16c9-4f88-427d-913b-de36b8cf849d"
      },
      "outputs": [
        {
          "output_type": "stream",
          "name": "stdout",
          "text": [
            "Epoch 1/10\n",
            "21/21 [==============================] - 5s 202ms/step - loss: 0.0000e+00 - accuracy: 0.2018 - val_loss: 0.0000e+00 - val_accuracy: 0.2297\n",
            "Epoch 2/10\n",
            "21/21 [==============================] - 4s 189ms/step - loss: 0.0000e+00 - accuracy: 0.2063 - val_loss: 0.0000e+00 - val_accuracy: 0.2297\n",
            "Epoch 3/10\n",
            "21/21 [==============================] - 4s 188ms/step - loss: 0.0000e+00 - accuracy: 0.2093 - val_loss: 0.0000e+00 - val_accuracy: 0.2297\n",
            "Epoch 4/10\n",
            "21/21 [==============================] - 4s 187ms/step - loss: 0.0000e+00 - accuracy: 0.2108 - val_loss: 0.0000e+00 - val_accuracy: 0.2297\n",
            "Epoch 5/10\n",
            "21/21 [==============================] - 4s 192ms/step - loss: 0.0000e+00 - accuracy: 0.2364 - val_loss: 0.0000e+00 - val_accuracy: 0.2297\n",
            "Epoch 6/10\n",
            "21/21 [==============================] - 4s 189ms/step - loss: 0.0000e+00 - accuracy: 0.2425 - val_loss: 0.0000e+00 - val_accuracy: 0.2973\n",
            "Epoch 7/10\n",
            "21/21 [==============================] - 4s 187ms/step - loss: 0.0000e+00 - accuracy: 0.2485 - val_loss: 0.0000e+00 - val_accuracy: 0.2838\n",
            "Epoch 8/10\n",
            "21/21 [==============================] - 4s 189ms/step - loss: 0.0000e+00 - accuracy: 0.2771 - val_loss: 0.0000e+00 - val_accuracy: 0.2432\n",
            "Epoch 9/10\n",
            "21/21 [==============================] - 4s 188ms/step - loss: 0.0000e+00 - accuracy: 0.2605 - val_loss: 0.0000e+00 - val_accuracy: 0.2297\n",
            "Epoch 10/10\n",
            "21/21 [==============================] - 4s 189ms/step - loss: 0.0000e+00 - accuracy: 0.2470 - val_loss: 0.0000e+00 - val_accuracy: 0.2297\n"
          ]
        },
        {
          "output_type": "execute_result",
          "data": {
            "text/plain": [
              "<keras.callbacks.History at 0x7f90887a78d0>"
            ]
          },
          "metadata": {},
          "execution_count": 7
        }
      ],
      "source": [
        "model = Sequential()\n",
        "model.add(Conv2D(64, (3,3), input_shape = X.shape[1:]))\n",
        "model.add(Activation(\"relu\"))\n",
        "model.add(MaxPooling2D(pool_size = (2,2)))\n",
        "\n",
        "model.add(Conv2D(64, (3,3)))\n",
        "model.add(Activation(\"tanh\"))\n",
        "model.add(MaxPooling2D(pool_size = (2,2)))\n",
        "\n",
        "model.add(Flatten())\n",
        "model.add(Dense(64))\n",
        "\n",
        "model.add(Dense(1))\n",
        "model.add(Activation('sigmoid'))\n",
        "\n",
        "model.compile(loss = \"categorical_crossentropy\", optimizer = \"adam\", metrics = ['accuracy'])\n",
        "\n",
        "model.fit(X, Y, batch_size = 32, epochs = 10, validation_split = 0.1)\n",
        "\n"
      ]
    },
    {
      "cell_type": "markdown",
      "metadata": {
        "id": "NgxK-NiUF5Eq"
      },
      "source": [
        "### Changing first Activation method while holding the first and second Activation and other stuff the same\n",
        "  - Original Activation method was 'ReLU' which gave an accuracy value of 0.2319 at Epoch 10/10 \n",
        "\n",
        "  - Original Activation method was 'tanh' which gave an accuracy value of 0.2364 at Epoch 10/10 \n",
        "\n",
        "  - Original Activation method was 'elu' which gave an accuracy value of 0.2319 at Epoch 10/10 \n",
        "\n",
        "  - Original Activation method was 'sigmoid' which gave an accuracy value of 0.2312 at Epoch 10/10  \n",
        "\n",
        "  - Reference: https://towardsdatascience.com/7-popular-activation-functions-you-should-know-in-deep-learning-and-how-to-use-them-with-keras-and-27b4d838dfe6\n",
        "\n",
        "### Changing second Activation method while holding the first and third Activation and other stuff the same\n",
        "  - Original Activation method was 'ReLU' which gave an accuracy value of 0.2319 at Epoch 10/10 \n",
        "\n",
        "  - Original Activation method was 'tanh' which gave an accuracy value of >0.3 (0.31 and 0.3358) at Epoch 10/10 (this should be used as the second activation method)\n",
        "\n",
        "  - Original Activation method was 'elu' which gave an accuracy value of 0.2319 at Epoch 10/10 \n",
        "\n",
        "  - Original Activation method was 'sigmoid' which gave an accuracy value of 0.2922 at Epoch 10/10 (best was 0.3027 at Epoch 9/10) \n",
        "\n",
        "  - Reference: https://towardsdatascience.com/7-popular-activation-functions-you-should-know-in-deep-learning-and-how-to-use-them-with-keras-and-27b4d838dfe6\n",
        "\n",
        "### Key Thing to Improve Accuracy is the Validation_Split value\n",
        "  - As you Increase the value, the accuracy will improve, but then the training data will be smaller "
      ]
    },
    {
      "cell_type": "markdown",
      "metadata": {
        "id": "z4KLQ8S16cMK"
      },
      "source": [
        "### CNN Using Torch"
      ]
    },
    {
      "cell_type": "code",
      "execution_count": 8,
      "metadata": {
        "colab": {
          "base_uri": "https://localhost:8080/"
        },
        "id": "D9cJHpcm6hEU",
        "outputId": "5cc45c6d-54fb-4a4e-c7ac-3b8bbe0c905a"
      },
      "outputs": [
        {
          "output_type": "stream",
          "name": "stdout",
          "text": [
            "cpu\n"
          ]
        }
      ],
      "source": [
        "# Check GPU avialbility\n",
        "device = torch.device('cuda:0' if torch.cuda.is_available() else 'cpu')\n",
        "print(device)"
      ]
    },
    {
      "cell_type": "code",
      "execution_count": 9,
      "metadata": {
        "id": "Gm7E43aVF5Er"
      },
      "outputs": [],
      "source": [
        "# Hyper parameters\n",
        "num_epochs = 5\n",
        "num_classes = 6\n",
        "batch_size = 100\n",
        "learning_rate = 0.0001"
      ]
    },
    {
      "cell_type": "code",
      "execution_count": 10,
      "metadata": {
        "id": "dC4RBNlN8cog"
      },
      "outputs": [],
      "source": [
        "torch_XTr = torch.tensor(x_train)\n",
        "torch_YTr = torch.tensor(y_train)\n",
        "torch_XTe = torch.tensor(x_test)\n",
        "torch_YTe = torch.tensor(y_test)\n",
        "\n",
        "train = torch.utils.data.TensorDataset(torch_XTr, torch_YTr)\n",
        "train_loader = torch.utils.data.DataLoader(train, batch_size= batch_size, shuffle = True)\n",
        "\n",
        "test = torch.utils.data.TensorDataset(torch_XTe, torch_YTe)\n",
        "test_loader = torch.utils.data.DataLoader(test, batch_size= batch_size, shuffle = False)\n",
        "\n"
      ]
    },
    {
      "cell_type": "code",
      "execution_count": 11,
      "metadata": {
        "colab": {
          "base_uri": "https://localhost:8080/"
        },
        "id": "7ewEQsin9w2G",
        "outputId": "ba653381-6a62-49e1-834f-66679dce942d"
      },
      "outputs": [
        {
          "output_type": "stream",
          "name": "stdout",
          "text": [
            "torch.Size([100, 50, 50, 3]) torch.Size([100])\n"
          ]
        }
      ],
      "source": [
        "Xfe, Yla = next(iter(train_loader))\n",
        "print(Xfe.shape, Yla.shape)\n"
      ]
    },
    {
      "cell_type": "code",
      "execution_count": null,
      "metadata": {
        "id": "wT72ISoK826s"
      },
      "outputs": [],
      "source": [
        "#Xfe = torch.swapaxes(Xfe, 1,3)\n",
        "#Xfe.shape"
      ]
    },
    {
      "cell_type": "code",
      "execution_count": null,
      "metadata": {
        "id": "GxIE-8GA-D4s"
      },
      "outputs": [],
      "source": [
        "#plt.imshow(Xfe[100,0,:,:])"
      ]
    },
    {
      "cell_type": "code",
      "execution_count": 12,
      "metadata": {
        "id": "_-x6x9Th67q_"
      },
      "outputs": [],
      "source": [
        "# CNN\n",
        "class ConvNet(nn.Module):\n",
        "  def __init__(self, num_classes = 6):\n",
        "    super(ConvNet, self).__init__()\n",
        "    self.layer1 = nn.Sequential(\n",
        "        nn.Conv2d(3, 16, kernel_size = 5, stride = 1, padding = 2),\n",
        "        nn.BatchNorm2d(16),\n",
        "        nn.ReLU(),\n",
        "        nn.MaxPool2d(kernel_size = 2, stride = 2)\n",
        "    )\n",
        "    self.layer2 = nn.Sequential(\n",
        "        nn.Conv2d(16, 32, kernel_size = 5, stride = 1, padding = 2),\n",
        "        nn.BatchNorm2d(32),\n",
        "        nn.Tanh(),\n",
        "        nn.MaxPool2d(kernel_size = 2, stride = 2)  \n",
        "    )\n",
        "    self.fc = nn.Linear(4608, num_classes)\n",
        "\n",
        "  def forward(self, Xfe):\n",
        "    Xfe = torch.swapaxes(Xfe, 1,3)\n",
        "    out = self.layer1(Xfe.float())    \n",
        "    out = self.layer2(out)   \n",
        "    out = out.reshape(out.size(0), -1)\n",
        "    out = self.fc(out)\n",
        "    return out"
      ]
    },
    {
      "cell_type": "code",
      "execution_count": 13,
      "metadata": {
        "id": "Ul1rYCBt8HBq"
      },
      "outputs": [],
      "source": [
        "model = ConvNet(num_classes).to(device)\n",
        "output = model(Xfe)"
      ]
    },
    {
      "cell_type": "code",
      "execution_count": 14,
      "metadata": {
        "id": "W2lyDq5u_YXZ",
        "colab": {
          "base_uri": "https://localhost:8080/"
        },
        "outputId": "4f53cd57-132a-4436-d990-f494acd467ac"
      },
      "outputs": [
        {
          "output_type": "stream",
          "name": "stdout",
          "text": [
            "ConvNet(\n",
            "  (layer1): Sequential(\n",
            "    (0): Conv2d(3, 16, kernel_size=(5, 5), stride=(1, 1), padding=(2, 2))\n",
            "    (1): BatchNorm2d(16, eps=1e-05, momentum=0.1, affine=True, track_running_stats=True)\n",
            "    (2): ReLU()\n",
            "    (3): MaxPool2d(kernel_size=2, stride=2, padding=0, dilation=1, ceil_mode=False)\n",
            "  )\n",
            "  (layer2): Sequential(\n",
            "    (0): Conv2d(16, 32, kernel_size=(5, 5), stride=(1, 1), padding=(2, 2))\n",
            "    (1): BatchNorm2d(32, eps=1e-05, momentum=0.1, affine=True, track_running_stats=True)\n",
            "    (2): Tanh()\n",
            "    (3): MaxPool2d(kernel_size=2, stride=2, padding=0, dilation=1, ceil_mode=False)\n",
            "  )\n",
            "  (fc): Linear(in_features=4608, out_features=6, bias=True)\n",
            ")\n",
            "tensor(1.8204, grad_fn=<NllLossBackward0>)\n"
          ]
        }
      ],
      "source": [
        "criterion = nn.CrossEntropyLoss()\n",
        "optimizer = torch.optim.Adam(model.parameters(), lr = learning_rate)\n",
        "print(model)\n",
        "#test run to check loss\n",
        "loss = criterion(output,Yla)\n",
        "print(loss)"
      ]
    },
    {
      "cell_type": "markdown",
      "metadata": {
        "id": "myliDY_E6gnj"
      },
      "source": [
        "Training Model"
      ]
    },
    {
      "cell_type": "code",
      "execution_count": 17,
      "metadata": {
        "colab": {
          "base_uri": "https://localhost:8080/"
        },
        "id": "oepfvxU4F5Et",
        "outputId": "6825a56e-ce48-45b0-d33f-4c82af60d088"
      },
      "outputs": [
        {
          "output_type": "stream",
          "name": "stdout",
          "text": [
            "Epoch [1/10], Step [6/6], Loss: 0.5435\n",
            "Epoch [2/10], Step [6/6], Loss: 0.9164\n",
            "Epoch [3/10], Step [6/6], Loss: 0.6325\n",
            "Epoch [4/10], Step [6/6], Loss: 0.7572\n",
            "Epoch [5/10], Step [6/6], Loss: 0.8488\n",
            "Epoch [6/10], Step [6/6], Loss: 0.5673\n",
            "Epoch [7/10], Step [6/6], Loss: 0.5355\n",
            "Epoch [8/10], Step [6/6], Loss: 0.5344\n",
            "Epoch [9/10], Step [6/6], Loss: 0.5679\n",
            "Epoch [10/10], Step [6/6], Loss: 0.8463\n"
          ]
        }
      ],
      "source": [
        "# Train the model\n",
        "total_step = len(train_loader)\n",
        "num_epochs = 10\n",
        "running_loss = 0\n",
        "count = 0\n",
        "for epoch in range(num_epochs):    \n",
        "    for i, (Xfe, Yla) in enumerate(train_loader):\n",
        "        Xfe = Xfe.to(device)\n",
        "        Yla = Yla.to(device)\n",
        "\n",
        "        # Forward pass       \n",
        "        outputs = model(Xfe)   \n",
        "\n",
        "        # Calculate Loss     \n",
        "        loss = criterion(outputs, Yla)\n",
        "\n",
        "        # Backward and optimize   \n",
        "        optimizer.zero_grad()     \n",
        "        loss.backward()\n",
        "        optimizer.step()\n",
        "\n",
        "        count += 1\n",
        "\n",
        "        #store loss and iteration\n",
        "        \n",
        "        if count % 6 == 0:\n",
        "            #print('Iteration: {} Loss: {} '.format(count, loss.item()))\n",
        "            print ('Epoch [{}/{}], Step [{}/{}], Loss: {:.4f}' \n",
        "                  .format(epoch+1, num_epochs, i+1, total_step, loss.item()))\n",
        "\n",
        "        #Total Iterations (if use the right # in count % # == 0) which equal \n",
        "        #total_step * epochs"
      ]
    },
    {
      "cell_type": "code",
      "execution_count": 18,
      "metadata": {
        "colab": {
          "base_uri": "https://localhost:8080/"
        },
        "id": "PfnZkNFOF5Et",
        "outputId": "50932757-363b-4b29-b5f6-fc21dafcd069"
      },
      "outputs": [
        {
          "output_type": "stream",
          "name": "stdout",
          "text": [
            "Test Accuracy of the model on 10000 test images: 59.009009009009006 %\n"
          ]
        }
      ],
      "source": [
        "#Test the model\n",
        "model.eval()\n",
        "with torch.no_grad():\n",
        "    correct = 0\n",
        "    total = 0\n",
        "    for Xfe, Yla in test_loader:\n",
        "        Xfe = Xfe.to(device)\n",
        "        Yla = Yla.to(device)\n",
        "        outputs = model(Xfe)\n",
        "        _, predicted = torch.max(outputs.data, 1)\n",
        "        total += Yla.size(0)\n",
        "        correct += (predicted == Yla).sum().item()\n",
        "\n",
        "    print('Test Accuracy of the model on 10000 test images: {} %'.format(100 * correct/total))"
      ]
    }
  ],
  "metadata": {
    "colab": {
      "provenance": [],
      "include_colab_link": true
    },
    "kernelspec": {
      "display_name": "Python 3.9.6 64-bit",
      "language": "python",
      "name": "python3"
    },
    "language_info": {
      "codemirror_mode": {
        "name": "ipython",
        "version": 3
      },
      "file_extension": ".py",
      "mimetype": "text/x-python",
      "name": "python",
      "nbconvert_exporter": "python",
      "pygments_lexer": "ipython3",
      "version": "3.9.6"
    },
    "vscode": {
      "interpreter": {
        "hash": "7c5c439e7b1e99f14538136ae870b2eb956937623f6c759e45612f48e4cb3a4a"
      }
    }
  },
  "nbformat": 4,
  "nbformat_minor": 0
}
